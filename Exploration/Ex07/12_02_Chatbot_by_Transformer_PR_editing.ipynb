{
 "cells": [
  {
   "cell_type": "markdown",
   "metadata": {
    "id": "82yL_bwXcX1b"
   },
   "source": [
    "### 10-1. 프로젝트: 한국어 데이터로 챗봇 만들기"
   ]
  },
  {
   "cell_type": "code",
   "execution_count": 1,
   "metadata": {
    "id": "xD60_Gd9_hJH"
   },
   "outputs": [],
   "source": [
    "# 필요 패키지\n",
    "import tensorflow as tf\n",
    "import tensorflow_datasets as tfds\n",
    "import os\n",
    "import re\n",
    "import numpy as np\n",
    "import matplotlib.pyplot as plt"
   ]
  },
  {
   "cell_type": "code",
   "execution_count": 2,
   "metadata": {
    "colab": {
     "base_uri": "https://localhost:8080/"
    },
    "id": "OdaJlt7n_ow3",
    "outputId": "da3876ad-af8c-4c3f-ab31-325c2aee1e00"
   },
   "outputs": [
    {
     "name": "stdout",
     "output_type": "stream",
     "text": [
      "Mounted at /content/drive\n"
     ]
    }
   ],
   "source": [
    "from google.colab import drive\n",
    "drive.mount('/content/drive')"
   ]
  },
  {
   "cell_type": "code",
   "execution_count": 3,
   "metadata": {
    "colab": {
     "base_uri": "https://localhost:8080/"
    },
    "id": "pztvpXMVF5Xa",
    "outputId": "f2cb58e8-01f9-4318-efc5-39ffda029001"
   },
   "outputs": [
    {
     "name": "stdout",
     "output_type": "stream",
     "text": [
      "Collecting konlpy\n",
      "  Downloading konlpy-0.6.0-py2.py3-none-any.whl.metadata (1.9 kB)\n",
      "Collecting JPype1>=0.7.0 (from konlpy)\n",
      "  Downloading jpype1-1.5.1-cp310-cp310-manylinux_2_17_x86_64.manylinux2014_x86_64.whl.metadata (4.9 kB)\n",
      "Requirement already satisfied: lxml>=4.1.0 in /usr/local/lib/python3.10/dist-packages (from konlpy) (5.3.0)\n",
      "Requirement already satisfied: numpy>=1.6 in /usr/local/lib/python3.10/dist-packages (from konlpy) (1.26.4)\n",
      "Requirement already satisfied: packaging in /usr/local/lib/python3.10/dist-packages (from JPype1>=0.7.0->konlpy) (24.2)\n",
      "Downloading konlpy-0.6.0-py2.py3-none-any.whl (19.4 MB)\n",
      "\u001b[2K   \u001b[90m━━━━━━━━━━━━━━━━━━━━━━━━━━━━━━━━━━━━━━━━\u001b[0m \u001b[32m19.4/19.4 MB\u001b[0m \u001b[31m73.8 MB/s\u001b[0m eta \u001b[36m0:00:00\u001b[0m\n",
      "\u001b[?25hDownloading jpype1-1.5.1-cp310-cp310-manylinux_2_17_x86_64.manylinux2014_x86_64.whl (493 kB)\n",
      "\u001b[2K   \u001b[90m━━━━━━━━━━━━━━━━━━━━━━━━━━━━━━━━━━━━━━━━\u001b[0m \u001b[32m493.8/493.8 kB\u001b[0m \u001b[31m34.5 MB/s\u001b[0m eta \u001b[36m0:00:00\u001b[0m\n",
      "\u001b[?25hInstalling collected packages: JPype1, konlpy\n",
      "Successfully installed JPype1-1.5.1 konlpy-0.6.0\n"
     ]
    }
   ],
   "source": [
    "!pip install konlpy"
   ]
  },
  {
   "cell_type": "markdown",
   "metadata": {
    "id": "iY7zd_VeccTY"
   },
   "source": [
    "### Step 1. 데이터 수집하기\n"
   ]
  },
  {
   "cell_type": "code",
   "execution_count": 5,
   "metadata": {
    "colab": {
     "base_uri": "https://localhost:8080/"
    },
    "id": "BbM-5jW_cXDI",
    "outputId": "4aca7d34-7dfc-4130-f703-0638b142a062"
   },
   "outputs": [
    {
     "name": "stdout",
     "output_type": "stream",
     "text": [
      "                       Q,A,label\n",
      "0            12시 땡!,하루가 또 가네요.,0\n",
      "1        1지망 학교 떨어졌어,위로해 드립니다.,0\n",
      "2     3박4일 놀러가고 싶다,여행은 언제나 좋죠.,0\n",
      "3  3박4일 정도 놀러가고 싶다,여행은 언제나 좋죠.,0\n",
      "4           PPL 심하네,눈살이 찌푸려지죠.,0\n",
      "<bound method DataFrame.info of                                                Q,A,label\n",
      "0                                    12시 땡!,하루가 또 가네요.,0\n",
      "1                                1지망 학교 떨어졌어,위로해 드립니다.,0\n",
      "2                             3박4일 놀러가고 싶다,여행은 언제나 좋죠.,0\n",
      "3                          3박4일 정도 놀러가고 싶다,여행은 언제나 좋죠.,0\n",
      "4                                   PPL 심하네,눈살이 찌푸려지죠.,0\n",
      "...                                                  ...\n",
      "11818                훔쳐보는 것도 눈치 보임.,티가 나니까 눈치가 보이는 거죠!,2\n",
      "11819                     훔쳐보는 것도 눈치 보임.,훔쳐보는 거 티나나봐요.,2\n",
      "11820                               흑기사 해주는 짝남.,설렜겠어요.,2\n",
      "11821  힘든 연애 좋은 연애라는게 무슨 차이일까?,잘 헤어질 수 있는 사이 여부인 거 같아...\n",
      "11822                    힘들어서 결혼할까봐,도피성 결혼은 하지 않길 바라요.,2\n",
      "\n",
      "[11823 rows x 1 columns]>\n"
     ]
    }
   ],
   "source": [
    "import pandas as pd\n",
    "# 데이터를 읽어봅시다.\n",
    "data = pd.read_table('~/aiffel/Untitled Folder/ChatbotData.csv')\n",
    "# test_data = pd.read_table('/content/drive/MyDrive/Colab Notebooks/sentiment_classification/data/ratings_test.txt')\n",
    "data_path = '~/aiffel/Untitled Folder/ChatbotData.csv'\n",
    "print(data.head())\n",
    "print(data.info)"
   ]
  },
  {
   "cell_type": "markdown",
   "metadata": {
    "id": "kyRS4nV2cirq"
   },
   "source": [
    "### Step 2. 데이터 전처리하기\n",
    "영어 데이터와는 전혀 다른 데이터인 만큼 영어 데이터에 사용했던 전처리와 일부 동일한 전처리도 필요하겠지만 전체적으로는 다른 전처리를 수행해야 할 수도 있습니다.\n",
    "<참조PR> :\n"
   ]
  },
  {
   "cell_type": "code",
   "execution_count": 6,
   "metadata": {
    "id": "h8Pg5z0CJuIl"
   },
   "outputs": [],
   "source": [
    "import re\n",
    "\n",
    "# 사용할 샘플의 최대 개수\n",
    "MAX_SAMPLES = 11823\n",
    "\n",
    "# 한글 데이터에 맞는 전처리 함수\n",
    "def preprocess_sentence(sentence):\n",
    "    # 입력받은 sentence의 양쪽 공백을 제거\n",
    "    sentence = sentence.strip()\n",
    "\n",
    "    # 특수 문자를 분리하고, 필요 없는 문자는 공백으로 대체\n",
    "    sentence = re.sub(r\"([?.!,])\", r\" \\1 \", sentence)  # 구두점 앞뒤로 공백 추가\n",
    "    sentence = re.sub(r\"[^가-힣a-zA-Z0-9?.!,]+\", \" \", sentence)  # 한글, 영문, 숫자, 구두점 제외한 문자 제거 #! 핵심!\n",
    "    sentence = re.sub(r'[\" \"]+', \" \", sentence)  # 다중 공백을 단일 공백으로 치환\n",
    "\n",
    "    # 최종 양쪽 공백 제거\n",
    "    sentence = sentence.strip()\n",
    "\n",
    "    return sentence\n",
    "\n",
    "# 데이터 로드 및 전처리 함수\n",
    "def load_conversations_from_csv(file_path):\n",
    "    # CSV 파일 읽기\n",
    "    data = pd.read_csv(file_path, header=None)\n",
    "\n",
    "    # 질문과 답변 분리 및 전처리 적용\n",
    "    questions = data[0].apply(preprocess_sentence).tolist()\n",
    "    answers = data[1].apply(preprocess_sentence).tolist()\n",
    "\n",
    "    # 샘플 개수 제한\n",
    "    questions = questions[:MAX_SAMPLES]\n",
    "    answers = answers[:MAX_SAMPLES]\n",
    "\n",
    "    return questions, answers"
   ]
  },
  {
   "cell_type": "code",
   "execution_count": 7,
   "metadata": {
    "colab": {
     "base_uri": "https://localhost:8080/"
    },
    "id": "IMOTL2H4K29C",
    "outputId": "26a10238-bdc8-496f-8ad9-13d05e90ecc3"
   },
   "outputs": [
    {
     "name": "stdout",
     "output_type": "stream",
     "text": [
      "샘플 질문: ['Q', '12시 땡 !', '1지망 학교 떨어졌어', '3박4일 놀러가고 싶다', '3박4일 정도 놀러가고 싶다']\n",
      "샘플 답변: ['A', '하루가 또 가네요 .', '위로해 드립니다 .', '여행은 언제나 좋죠 .', '여행은 언제나 좋죠 .']\n",
      "전체 샘플 수 : 11823\n",
      "전체 샘플 수 : 11823\n"
     ]
    }
   ],
   "source": [
    "# 질문과 답변의 쌍인 데이터셋을 구성하기 위한 데이터 로드 함수\n",
    "questions, answers = load_conversations_from_csv(data_path)\n",
    "# 결과 확인\n",
    "print(\"샘플 질문:\", questions[:5])\n",
    "print(\"샘플 답변:\", answers[:5])\n",
    "print('전체 샘플 수 :', len(questions))\n",
    "print('전체 샘플 수 :', len(answers))"
   ]
  },
  {
   "cell_type": "markdown",
   "metadata": {
    "id": "x7Nmrl2NMaXy"
   },
   "source": [
    "- 데이터 셋을 살펴보면, 한글 단어만 있는 것이 아닌 영단어도 섞여 있음을 고려해야 했습니다."
   ]
  },
  {
   "cell_type": "code",
   "execution_count": 8,
   "metadata": {
    "colab": {
     "base_uri": "https://localhost:8080/"
    },
    "id": "Z6vn9DkNJuSF",
    "outputId": "a7ad1919-356f-4525-99ca-14ffae31d587"
   },
   "outputs": [
    {
     "name": "stdout",
     "output_type": "stream",
     "text": [
      "샘플 중 가장 긴 질문의 길이: 57\n",
      "질문의 평균 길이: 13.212974710310412\n"
     ]
    }
   ],
   "source": [
    "max_length = max(len(q) for q in questions)\n",
    "print(\"샘플 중 가장 긴 질문의 길이:\", max_length)\n",
    "\n",
    "# 질문 길이의 평균 계산\n",
    "average_length = sum(len(q) for q in questions) / len(questions)\n",
    "print(\"질문의 평균 길이:\", average_length)"
   ]
  },
  {
   "cell_type": "markdown",
   "metadata": {
    "id": "joG3-MKON-bV"
   },
   "source": [
    "- Max_Length를 고려하여 , 각 샘플 길이의 평균과 max를 구했습니다."
   ]
  },
  {
   "cell_type": "markdown",
   "metadata": {
    "id": "qtfTPC2yclxI"
   },
   "source": [
    "### Step 3. SubwordTextEncoder 사용하기\n",
    "한국어 데이터는 형태소 분석기를 사용하여 토크나이징을 해야 한다고 많은 분이 알고 있습니다. 하지만 여기서는 형태소 분석기가 아닌 위 실습에서 사용했던 내부 단어 토크나이저인 SubwordTextEncoder를 그대로 사용  \n",
    "\n",
    "1. 단어장(Vocabulary) 만들기   \n",
    "우선 각 단어에 고유한 정수 인덱스를 부여하기 위해서 단어장(Vocabulary)을 만들어보겠습니다. 단어장을 만들 때는 질문과 답변 데이터셋을 모두 사용하여 만듭니다.\n",
    "\n",
    "\n",
    "\n",
    "\n"
   ]
  },
  {
   "cell_type": "code",
   "execution_count": 9,
   "metadata": {
    "colab": {
     "base_uri": "https://localhost:8080/"
    },
    "id": "AMFQt6fMcu0-",
    "outputId": "fe145a3f-54da-4b79-eea9-96e05e3ca7eb"
   },
   "outputs": [
    {
     "name": "stdout",
     "output_type": "stream",
     "text": [
      "슝=3 \n"
     ]
    }
   ],
   "source": [
    "import tensorflow_datasets as tfds\n",
    "\n",
    "# 질문과 답변 데이터셋에 대해서 Vocabulary 생성\n",
    "tokenizer = tfds.deprecated.text.SubwordTextEncoder.build_from_corpus(questions + answers, target_vocab_size=2**13)\n",
    "print(\"슝=3 \")"
   ]
  },
  {
   "cell_type": "markdown",
   "metadata": {
    "id": "IhAaLQPBM6uy"
   },
   "source": [
    "이때 디코더의 문장 생성 과정에서 사용할 '시작 토큰'과 '종료 토큰'에 대해서도 임의로 단어장에 추가하여서 정수를 부여해 줍니다. 이미 생성된 단어장의 번호와 겹치지 않도록 각각 단어장의 크기와 그보다 1이 큰 수를 번호로 부여하면 되겠죠?"
   ]
  },
  {
   "cell_type": "code",
   "execution_count": 10,
   "metadata": {
    "colab": {
     "base_uri": "https://localhost:8080/"
    },
    "id": "oHloXESHM61m",
    "outputId": "06f9baef-ed7f-4c6d-af3f-1d3a0a05d4bc"
   },
   "outputs": [
    {
     "name": "stdout",
     "output_type": "stream",
     "text": [
      "START_TOKEN의 번호 : [8161]\n",
      "END_TOKEN의 번호 : [8162]\n",
      "8163\n"
     ]
    }
   ],
   "source": [
    "# 시작 토큰과 종료 토큰에 고유한 정수를 부여합니다.\n",
    "START_TOKEN, END_TOKEN = [tokenizer.vocab_size], [tokenizer.vocab_size + 1]\n",
    "print('START_TOKEN의 번호 :' ,[tokenizer.vocab_size])\n",
    "print('END_TOKEN의 번호 :' ,[tokenizer.vocab_size + 1])\n",
    "\n",
    "# 시작 토큰과 종료 토큰을 고려하여 +2를 하여 단어장의 크기를 산정합니다.\n",
    "VOCAB_SIZE = tokenizer.vocab_size + 2\n",
    "print(VOCAB_SIZE)"
   ]
  },
  {
   "cell_type": "markdown",
   "metadata": {
    "id": "rd7Hm1lgM66m"
   },
   "source": [
    "2. 각 단어를 고유한 정수로 인코딩(Integer encoding) & 패딩(Padding)\n",
    "위에서 tensorflow_datasets의 SubwordTextEncoder를 사용해서 tokenizer를 정의하고 Vocabulary를 만들었다면,   \n",
    "tokenizer.encode()로 각 단어를 정수로 변환할 수 있고  \n",
    " 또는 tokenizer.decode()를 통해 정수 시퀀스를 단어 시퀀스로 변환할 수 있습니다.\n",
    "\n",
    "\n",
    "\n"
   ]
  },
  {
   "cell_type": "code",
   "execution_count": 10,
   "metadata": {
    "id": "zOw9g3iQM6-h"
   },
   "outputs": [],
   "source": [
    "# # 임의의 22번째 샘플에 대해서 정수 인코딩 작업을 수행. 각 토큰을 고유한 정수로 변환. 예시\n",
    "# print('정수 인코딩 후의 21번째 질문 샘플: {}'.format(tokenizer.encode(questions[21])))\n",
    "# print('정수 인코딩 후의 21번째 답변 샘플: {}'.format(tokenizer.encode(answers[21])))"
   ]
  },
  {
   "cell_type": "code",
   "execution_count": 11,
   "metadata": {
    "colab": {
     "base_uri": "https://localhost:8080/"
    },
    "id": "Zdd2HOJlOPZ7",
    "outputId": "60e42de6-50bb-43e0-f90b-809359b5e324"
   },
   "outputs": [
    {
     "name": "stdout",
     "output_type": "stream",
     "text": [
      "max_length :  40\n"
     ]
    }
   ],
   "source": [
    "# 샘플의 최대 허용 길이 또는 패딩 후의 최종 길이\n",
    "MAX_LENGTH = 40\n",
    "print(\"max_length : \",MAX_LENGTH)\n",
    "\n",
    "# 정수 인코딩, 최대 길이를 초과하는 샘플 제거, 패딩\n",
    "def tokenize_and_filter(inputs, outputs):\n",
    "  tokenized_inputs, tokenized_outputs = [], []\n",
    "\n",
    "  for (sentence1, sentence2) in zip(inputs, outputs):\n",
    "    # 정수 인코딩 과정에서 시작 토큰과 종료 토큰을 추가\n",
    "    sentence1 = START_TOKEN + tokenizer.encode(sentence1) + END_TOKEN\n",
    "    sentence2 = START_TOKEN + tokenizer.encode(sentence2) + END_TOKEN\n",
    "\n",
    "    # 최대 길이 40 이하인 경우에만 데이터셋으로 허용\n",
    "    if len(sentence1) <= MAX_LENGTH and len(sentence2) <= MAX_LENGTH:\n",
    "      tokenized_inputs.append(sentence1)\n",
    "      tokenized_outputs.append(sentence2)\n",
    "\n",
    "  # 최대 길이 40으로 모든 데이터셋을 패딩\n",
    "  tokenized_inputs = tf.keras.preprocessing.sequence.pad_sequences(\n",
    "      tokenized_inputs, maxlen=MAX_LENGTH, padding='post')\n",
    "  tokenized_outputs = tf.keras.preprocessing.sequence.pad_sequences(\n",
    "      tokenized_outputs, maxlen=MAX_LENGTH, padding='post')\n",
    "\n",
    "  return tokenized_inputs, tokenized_outputs"
   ]
  },
  {
   "cell_type": "markdown",
   "metadata": {
    "id": "Rk6b7xmCOt5a"
   },
   "source": [
    "- 평균과, max길이를 볼때 40으로 정하여도 학습에 큰 영향은 없을것이라 생각하였습니다. (추후 max_length 증가시켜서 비교해보기)"
   ]
  },
  {
   "cell_type": "code",
   "execution_count": 12,
   "metadata": {
    "colab": {
     "base_uri": "https://localhost:8080/"
    },
    "id": "mdfEl2gDO8NP",
    "outputId": "ecd4655e-0a7c-4404-b13e-1ede298b93be"
   },
   "outputs": [
    {
     "name": "stdout",
     "output_type": "stream",
     "text": [
      "단어장의 크기 : 8163\n",
      "필터링 후의 질문 샘플 개수: 11823\n",
      "필터링 후의 답변 샘플 개수: 11823\n"
     ]
    }
   ],
   "source": [
    "questions, answers = tokenize_and_filter(questions, answers)\n",
    "print('단어장의 크기 :',(VOCAB_SIZE))\n",
    "print('필터링 후의 질문 샘플 개수: {}'.format(len(questions)))\n",
    "print('필터링 후의 답변 샘플 개수: {}'.format(len(answers)))"
   ]
  },
  {
   "cell_type": "markdown",
   "metadata": {
    "id": "8HGLJ6ngO7zG"
   },
   "source": [
    "3. 교사 강요 수행   \n",
    "질문과 답변의 쌍을 tf.data.Dataset API의 입력으로 사용하여 파이프라인을 구성합니다. 이때, 교사 강요를 위해서 answers[:, :-1]를 디코더의 입력값, answers[:, 1:]를 디코더의 레이블로 사용합니다.  \n",
    "\n",
    "Seq2Seq 모델은 입력 시퀀스를 받아 출력 시퀀스를 생성합니다. 예를 들어, 번역 모델은 문장을 입력받아 번역된 문장을 출력합니다. 출력 시퀀스의 각 단어는 이전까지의 출력 단어들에 영향을 받습니다.  \n",
    "• <훈련 과정>:  \n",
    "• 모델은 순차적으로 출력 시퀀스의 각 단어를 생성합니다.  \n",
    "• 모델의 출력은 이전에 생성된 단어를 기반으로 다음 단어를 예측합니다.  \n",
    "• <문제점>:  \n",
    "• 모델이 훈련 초기에 잘못된 단어를 생성하면, 잘못된 단어가 다음 입력으로 사용되어 오류가 누적됩니다.  \n",
    "• 이로 인해 모델이 원하는 대로 학습되지 않을 수 있습니다.   \n",
    "• 교사 강요의 해결책:  \n",
    "• 모델이 훈련 중에 이전 단계의 예측값 대신 실제 정답(레이블)을 다음 입력으로   사용하여 훈련의 안정성을 높입니다.  "
   ]
  },
  {
   "cell_type": "code",
   "execution_count": 13,
   "metadata": {
    "id": "iuIS5hh3PsMC"
   },
   "outputs": [],
   "source": [
    "BATCH_SIZE = 64\n",
    "BUFFER_SIZE = 20000\n",
    "\n",
    "# 디코더는 이전의 target을 다음의 input으로 사용합니다.\n",
    "# 이에 따라 outputs에서는 START_TOKEN을 제거하겠습니다.\n",
    "dataset = tf.data.Dataset.from_tensor_slices((\n",
    "    {\n",
    "        'inputs': questions, # 모델의 인코더에 전달할 입력 시퀀스.\n",
    "        'dec_inputs': answers[:, :-1] # •\tanswers[:, :-1]: 정답 시퀀스에서 마지막 토큰을 제거한 데이터.\n",
    "\t                                    # •\t이유: 디코더는 이전 출력 단어를 다음 입력으로 사용하므로 마지막 단어는 필요 없음.\n",
    "    },\n",
    "    {\n",
    "        'outputs': answers[:, 1:] # answers[:, 1:]: 정답 시퀀스에서 첫 번째 토큰을 제거한 데이터.\n",
    "\t                                # •\t이유: 디코더 출력은 입력보다 한 단계 앞서야 함.\n",
    "    },\n",
    "))\n",
    "\n",
    "dataset = dataset.cache() # 데이터셋을 캐시(메모리에 저장)하여 데이터 로딩 속도를 향상.\n",
    "dataset = dataset.shuffle(BUFFER_SIZE)\n",
    "dataset = dataset.batch(BATCH_SIZE)\n",
    "dataset = dataset.prefetch(tf.data.experimental.AUTOTUNE) # 데이터 로딩과 모델 훈련을 병렬로 처리하여 학습 속도를 최적화.\n",
    "\n",
    "# 예제 데이터로 모델 출력 확인\n",
    "example_inputs = questions[:2]  # 첫 두 샘플\n",
    "example_dec_inputs = answers[:2, :-1]  # 첫 두 샘플의 디코더 입력\n",
    "\n",
    "# # 예제 데이터로 모델 출력 확인\n",
    "# example_inputs = questions[:2]  # 첫 두 샘플\n",
    "# example_dec_inputs = answers[:2, :-1]  # 첫 두 샘플의 디코더 입력\n",
    "\n",
    "# # 모델 호출\n",
    "# outputs = model([example_inputs, example_dec_inputs])\n",
    "# print(\"Model output shape:\", outputs.shape)\n"
   ]
  },
  {
   "cell_type": "markdown",
   "metadata": {
    "id": "XK69pHgNcn0u"
   },
   "source": [
    "### Step 4. 모델 구성하기\n",
    "트랜스포머 모델을 구현"
   ]
  },
  {
   "cell_type": "markdown",
   "metadata": {
    "id": "ykAgwWjgRKTH"
   },
   "source": [
    "### -1. 포지셔널 인코딩 레이어"
   ]
  },
  {
   "cell_type": "code",
   "execution_count": 108,
   "metadata": {
    "colab": {
     "base_uri": "https://localhost:8080/",
     "height": 455
    },
    "id": "IkrCAC7LRTw_",
    "outputId": "1e65cdaa-1d63-4542-fee8-ebfb7a635caa"
   },
   "outputs": [
    {
     "data": {
      "image/png": "[encoded data removed]",
      "text/plain": [
       "<Figure size 432x288 with 2 Axes>"
      ]
     },
     "metadata": {
      "needs_background": "light"
     },
     "output_type": "display_data"
    }
   ],
   "source": [
    "class PositionalEncoding(tf.keras.layers.Layer):\n",
    "    def __init__(self, position, d_model, **kwargs):\n",
    "        super(PositionalEncoding, self).__init__(**kwargs)\n",
    "        self.position = position\n",
    "        self.d_model = d_model\n",
    "        self.pos_encoding = self.positional_encoding(position, d_model)\n",
    "\n",
    "    def get_angles(self, position, i, d_model):\n",
    "        angles = 1 / tf.pow(10000, (2 * (i // 2)) / tf.cast(d_model, tf.float32))\n",
    "        return position * angles\n",
    "\n",
    "    def positional_encoding(self, position, d_model):\n",
    "        angle_rads = self.get_angles(\n",
    "            position=tf.range(position, dtype=tf.float32)[:, tf.newaxis],\n",
    "            i=tf.range(d_model, dtype=tf.float32)[tf.newaxis, :],\n",
    "            d_model=d_model)\n",
    "\n",
    "        sines = tf.math.sin(angle_rads[:, 0::2])\n",
    "        cosines = tf.math.cos(angle_rads[:, 1::2])\n",
    "\n",
    "        pos_encoding = tf.concat([sines, cosines], axis=-1)\n",
    "        pos_encoding = pos_encoding[tf.newaxis, ...]\n",
    "\n",
    "        return tf.cast(pos_encoding, tf.float32)\n",
    "\n",
    "    def call(self, inputs):\n",
    "        return inputs + self.pos_encoding[:, :tf.shape(inputs)[1], :]\n",
    "\n",
    "    def get_config(self):\n",
    "        # 클래스 초기화에 사용된 매개변수를 반환\n",
    "        config = super(PositionalEncoding, self).get_config()\n",
    "        config.update({\n",
    "            \"position\": self.position,\n",
    "            \"d_model\": self.d_model,\n",
    "        })\n",
    "        return config\n",
    "\n",
    "# 행의 크기가 50, 열의 크기가 512인 행렬을 그려봅시다. 최대 문장의 길이가 50이고 워드 임베딩 차원을 512로 하는 모델의 입력 벡터 모양이 이와 같을 것입니다.\n",
    "\n",
    "# 50x512 크기의 포지셔널 인코딩 생성\n",
    "sample_pos_encoding = PositionalEncoding(position=50, d_model=512)\n",
    "\n",
    "# Positional Encoding 시각화\n",
    "plt.pcolormesh(sample_pos_encoding.pos_encoding.numpy()[0], cmap='RdBu')\n",
    "plt.xlabel('Depth')\n",
    "plt.xlim((0, 512))\n",
    "plt.ylabel('Position')\n",
    "plt.colorbar()\n",
    "plt.show()"
   ]
  },
  {
   "cell_type": "markdown",
   "metadata": {
    "id": "G3AOFAktRKN4"
   },
   "source": [
    "### -2. 스케일 닷 프로덕트 어텐션"
   ]
  },
  {
   "cell_type": "code",
   "execution_count": 109,
   "metadata": {
    "colab": {
     "base_uri": "https://localhost:8080/"
    },
    "id": "_Cca0KfHReHC",
    "outputId": "3747a819-695a-4530-8679-42e3124f07ed"
   },
   "outputs": [
    {
     "name": "stdout",
     "output_type": "stream",
     "text": [
      "슝=3\n"
     ]
    }
   ],
   "source": [
    "# 스케일드 닷 프로덕트 어텐션 함수\n",
    "def scaled_dot_product_attention(query, key, value, mask):\n",
    "  # 어텐션 가중치는 Q와 K의 닷 프로덕트\n",
    "  matmul_qk = tf.matmul(query, key, transpose_b=True)\n",
    "\n",
    "  # 가중치를 정규화\n",
    "  depth = tf.cast(tf.shape(key)[-1], tf.float32)\n",
    "  logits = matmul_qk / tf.math.sqrt(depth)\n",
    "\n",
    "  # 패딩에 마스크 추가\n",
    "  if mask is not None:\n",
    "    logits += (mask * -1e9)\n",
    "\n",
    "  # softmax적용\n",
    "  attention_weights = tf.nn.softmax(logits, axis=-1)\n",
    "\n",
    "  # 최종 어텐션은 가중치와 V의 닷 프로덕트\n",
    "  output = tf.matmul(attention_weights, value)\n",
    "  return output\n",
    "\n",
    "print(\"슝=3\")"
   ]
  },
  {
   "cell_type": "markdown",
   "metadata": {
    "id": "A02U6IorRKH5"
   },
   "source": [
    "### -3. 멀티헤드 어텐션"
   ]
  },
  {
   "cell_type": "code",
   "execution_count": 110,
   "metadata": {},
   "outputs": [],
   "source": [
    "class MultiHeadAttention(tf.keras.layers.Layer):\n",
    "    def __init__(self, d_model, num_heads, name=\"multi_head_attention\", **kwargs):\n",
    "        super(MultiHeadAttention, self).__init__(name=name, **kwargs)\n",
    "        self.num_heads = num_heads\n",
    "        self.d_model = d_model\n",
    "\n",
    "        # d_model은 num_heads로 나누어 떨어져야 함\n",
    "        assert self.d_model % self.num_heads == 0, \"d_model must be divisible by num_heads\"\n",
    "\n",
    "        # 각 헤드의 차원\n",
    "        self.depth = self.d_model // self.num_heads\n",
    "\n",
    "        # Dense layers for Q, K, V\n",
    "        self.query_dense = tf.keras.layers.Dense(units=d_model)\n",
    "        self.key_dense = tf.keras.layers.Dense(units=d_model)\n",
    "        self.value_dense = tf.keras.layers.Dense(units=d_model)\n",
    "\n",
    "        # 최종 출력 Dense layer\n",
    "        self.dense = tf.keras.layers.Dense(units=d_model)\n",
    "\n",
    "    def split_heads(self, inputs, batch_size):\n",
    "        \"\"\"입력을 여러 헤드로 분리\"\"\"\n",
    "        inputs = tf.reshape(\n",
    "            inputs, shape=(batch_size, -1, self.num_heads, self.depth))\n",
    "        return tf.transpose(inputs, perm=[0, 2, 1, 3])\n",
    "\n",
    "    def call(self, inputs):\n",
    "        \"\"\"\n",
    "        스케일드 닷 프로덕트 어텐션을 통해 입력 데이터를 처리\n",
    "        Args:\n",
    "          inputs: {'query': Q, 'key': K, 'value': V, 'mask': 마스크}\n",
    "        \"\"\"\n",
    "        query, key, value, mask = inputs['query'], inputs['key'], inputs['value'], inputs.get('mask', None)\n",
    "        batch_size = tf.shape(query)[0]\n",
    "\n",
    "        # Q, K, V에 각각 Dense를 적용\n",
    "        query = self.query_dense(query)\n",
    "        key = self.key_dense(key)\n",
    "        value = self.value_dense(value)\n",
    "\n",
    "        # 여러 헤드로 분리\n",
    "        query = self.split_heads(query, batch_size)\n",
    "        key = self.split_heads(key, batch_size)\n",
    "        value = self.split_heads(value, batch_size)\n",
    "\n",
    "        # 스케일드 닷 프로덕트 어텐션\n",
    "        scaled_attention = scaled_dot_product_attention(query, key, value, mask)\n",
    "\n",
    "        # 헤드를 다시 연결\n",
    "        scaled_attention = tf.transpose(scaled_attention, perm=[0, 2, 1, 3])\n",
    "        concat_attention = tf.reshape(scaled_attention, (batch_size, -1, self.d_model))\n",
    "\n",
    "        # 최종 Dense layer 적용\n",
    "        outputs = self.dense(concat_attention)\n",
    "        return outputs\n",
    "\n",
    "    def get_config(self):\n",
    "        \"\"\"클래스 초기화에 사용된 매개변수를 반환\"\"\"\n",
    "        config = super(MultiHeadAttention, self).get_config()\n",
    "        config.update({\n",
    "            \"d_model\": self.d_model,\n",
    "            \"num_heads\": self.num_heads,\n",
    "        })\n",
    "        return config"
   ]
  },
  {
   "cell_type": "code",
   "execution_count": null,
   "metadata": {
    "colab": {
     "base_uri": "https://localhost:8080/"
    },
    "id": "Npk2JG89RiPD",
    "outputId": "4d75de27-4bf1-49d2-e4e6-22f9ec5f320c",
    "scrolled": false
   },
   "outputs": [],
   "source": [
    "# class MultiHeadAttention(tf.keras.layers.Layer):\n",
    "    \n",
    "#     def __init__(self, d_model, num_heads, name=\"multi_head_attention\", **kwargs):\n",
    "#         super(MultiHeadAttention, self).__init__(name=name, **kwargs)\n",
    "#         self.num_heads = num_heads\n",
    "#         self.d_model = d_model\n",
    "\n",
    "#     assert d_model % self.num_heads == 0\n",
    "\n",
    "#     self.depth = d_model // self.num_heads\n",
    "\n",
    "#     self.query_dense = tf.keras.layers.Dense(units=d_model)\n",
    "#     self.key_dense = tf.keras.layers.Dense(units=d_model)\n",
    "#     self.value_dense = tf.keras.layers.Dense(units=d_model)\n",
    "\n",
    "#     self.dense = tf.keras.layers.Dense(units=d_model)\n",
    "    \n",
    "#     def split_heads(self, inputs, batch_size):\n",
    "#         inputs = tf.reshape(\n",
    "#             inputs, shape=(batch_size, -1, self.num_heads, self.depth))\n",
    "#         return tf.transpose(inputs, perm=[0, 2, 1, 3])\n",
    "\n",
    "#     def call(self, inputs):\n",
    "#         query, key, value, mask = inputs['query'], inputs['key'], inputs[\n",
    "#             'value'], inputs['mask']\n",
    "#         batch_size = tf.shape(query)[0]\n",
    "\n",
    "#     # Q, K, V에 각각 Dense를 적용합니다\n",
    "#         query = self.query_dense(query)\n",
    "#         key = self.key_dense(key)\n",
    "#         value = self.value_dense(value)\n",
    "\n",
    "#     # 병렬 연산을 위한 머리를 여러 개 만듭니다\n",
    "#         query = self.split_heads(query, batch_size)\n",
    "#         key = self.split_heads(key, batch_size)\n",
    "#         value = self.split_heads(value, batch_size)\n",
    "\n",
    "#     # 스케일드 닷 프로덕트 어텐션 함수\n",
    "#         scaled_attention = scaled_dot_product_attention(query, key, value, mask)\n",
    "\n",
    "#         scaled_attention = tf.transpose(scaled_attention, perm=[0, 2, 1, 3])\n",
    "\n",
    "#     # 어텐션 연산 후에 각 결과를 다시 연결(concatenate)합니다\n",
    "#         concat_attention = tf.reshape(scaled_attention,\n",
    "#                                   (batch_size, -1, self.d_model))\n",
    "\n",
    "#     # 최종 결과에도 Dense를 한 번 더 적용합니다\n",
    "#         outputs = self.dense(concat_attention)\n",
    "\n",
    "#         return outputs\n",
    "\n",
    "#         def get_config(self):\n",
    "#             config = super(MultiHeadAttention, self).get_config()\n",
    "#             config.update({\n",
    "#                 \"d_model\": self.d_model,\n",
    "#                 \"num_heads\": self.num_heads,\n",
    "#             })\n",
    "#             return config\n",
    "# print(\"슝=3\")"
   ]
  },
  {
   "cell_type": "markdown",
   "metadata": {
    "id": "M9NZ4-l7RKB5"
   },
   "source": [
    "### -4. 마스킹(패딩, 룩어헤드)"
   ]
  },
  {
   "cell_type": "code",
   "execution_count": 111,
   "metadata": {
    "colab": {
     "base_uri": "https://localhost:8080/"
    },
    "id": "Nn1cVJWRRnEU",
    "outputId": "53a05891-a560-43ce-bf9c-5dc10817fe14"
   },
   "outputs": [
    {
     "name": "stdout",
     "output_type": "stream",
     "text": [
      "슝=3\n",
      "tf.Tensor(\n",
      "[[[[0. 0. 1. 0. 1.]]]\n",
      "\n",
      "\n",
      " [[[1. 1. 1. 0. 0.]]]], shape=(2, 1, 1, 5), dtype=float32)\n"
     ]
    }
   ],
   "source": [
    "# 패딩 마스킹\n",
    "def create_padding_mask(x):\n",
    "  mask = tf.cast(tf.math.equal(x, 0), tf.float32)\n",
    "  # (batch_size, 1, 1, sequence length)\n",
    "  return mask[:, tf.newaxis, tf.newaxis, :]\n",
    "print(\"슝=3\")\n",
    "\n",
    "print(create_padding_mask(tf.constant([[1, 2, 0, 3, 0], [0, 0, 0, 4, 5]])))"
   ]
  },
  {
   "cell_type": "code",
   "execution_count": 112,
   "metadata": {
    "colab": {
     "base_uri": "https://localhost:8080/",
     "height": 289
    },
    "id": "b4YizSGcRmov",
    "outputId": "0e204cd4-298b-4e4d-9ccc-2b31d042dd66"
   },
   "outputs": [
    {
     "name": "stdout",
     "output_type": "stream",
     "text": [
      "슝=3\n",
      "tf.Tensor(\n",
      "[[[[0. 1. 1. 1. 1.]\n",
      "   [0. 0. 1. 1. 1.]\n",
      "   [0. 0. 0. 1. 1.]\n",
      "   [0. 0. 0. 0. 1.]\n",
      "   [0. 0. 0. 0. 0.]]]], shape=(1, 1, 5, 5), dtype=float32)\n",
      "tf.Tensor(\n",
      "[[[[1. 1. 1. 1. 1.]\n",
      "   [1. 0. 1. 1. 1.]\n",
      "   [1. 0. 0. 1. 1.]\n",
      "   [1. 0. 0. 0. 1.]\n",
      "   [1. 0. 0. 0. 0.]]]], shape=(1, 1, 5, 5), dtype=float32)\n"
     ]
    },
    {
     "data": {
      "text/plain": [
       "'[0, 5, 1, 5, 5] 예시\\n[[1., 1., 1., 1., 1.],\\n [1., 0., 1., 1., 1.],\\n [1., 0., 0., 1., 1.],\\n [1., 0., 0., 0., 1.],\\n [1., 0., 0., 0., 0.]]\\n두 정수 시퀀스에 대해서 각각 결과가 출력되는데, 오직 숫자가 0인 위치에서만 숫자 1이 나오고 숫자 0이 아닌 위치에서는 숫자 0인 벡터를 출력합니다.\\n#어텐션 연산 시에 패딩 마스킹을 참고하면 불필요하게 숫자 0을 참고하지 않게 할 수 있겠죠?'"
      ]
     },
     "execution_count": 112,
     "metadata": {},
     "output_type": "execute_result"
    }
   ],
   "source": [
    "# 룩 어헤드 마스킹(Look-ahead masking, 다음 단어 가리기)\n",
    "def create_look_ahead_mask(x): # x는 시퀀스 데이터로, 일반적으로 배치(batch)와 시퀀스 길이(sequence length)를 포함하는 텐서입니다. (예: [batch_size, seq_len])\n",
    "  seq_len = tf.shape(x)[1] # 입력 텐서 x의 **시퀀스 길이(seq_len)**를 계산.\n",
    "  look_ahead_mask = 1 - tf.linalg.band_part(tf.ones((seq_len, seq_len)), -1, 0)\n",
    "  \"\"\" 시퀀스 길이(seq_len)에 따라 (seq_len, seq_len) 크기의 1로 채워진 텐서를 생성.\n",
    "\t2.\ttf.linalg.band_part(..., -1, 0):\n",
    "\t•\t입력 행렬의 상삼각 행렬(Upper Triangular)을 추출합니다.\n",
    "\t•\t-1: 행(row) 방향으로 제한 없음.\n",
    "\t•\t0: 열(column) 방향으로 하한 설정.\n",
    "  [[1., 0., 0., 0.],\n",
    "  [1., 1., 0., 0.],\n",
    "  [1., 1., 1., 0.],\n",
    "  [1., 1., 1., 1.]]\n",
    "\t3.\t1 - ...:\n",
    "\t•\tLook-Ahead Mask를 생성하기 위해 상삼각 행렬을 반전. (1은 마스킹됨, 0은 허용됨)\n",
    "\t•\t상삼각 행렬을 반전하여 Look-Ahead Mask를 생성합니다.\n",
    "\t•\t1은 미래 시점(차단), 0은 현재 및 과거 시점(허용)을 나타냅니다.\n",
    "  [[0., 1., 1., 1.],\n",
    "  [0., 0., 1., 1.],\n",
    "  [0., 0., 0., 1.],\n",
    "  [0., 0., 0., 0.]]\n",
    "  \"\"\"\n",
    "  padding_mask = create_padding_mask(x)\n",
    "  return tf.maximum(look_ahead_mask, padding_mask)\n",
    "  \"\"\" \t•\ttf.maximum: 요소별로 두 텐서 중 더 큰 값을 선택합니다.\n",
    "\t•\tLook-Ahead Mask와 Padding Mask를 결합합니다.\n",
    "\t•\t두 마스크가 동시에 적용됩니다:\n",
    "\t•\tLook-Ahead Mask는 미래 시점을 차단.\n",
    "\t•\tPadding Mask는 패딩 값을 무시.\"\"\"\n",
    "  \"\"\" 예시\n",
    "  \t•\tx = [[1, 2, 0, 0]]일 경우:\n",
    "\t•\tLook-Ahead Mask:\n",
    "[[0., 1., 1., 1.],\n",
    " [0., 0., 1., 1.],\n",
    " [0., 0., 0., 1.],\n",
    " [0., 0., 0., 0.]]\n",
    "\n",
    "\t•\tPadding Mask:\n",
    "[[0., 0., 1., 1.],\n",
    " [0., 0., 1., 1.],\n",
    " [0., 0., 1., 1.],\n",
    " [0., 0., 1., 1.]]\n",
    "\n",
    "\t•\t결합된 최종 마스크:\n",
    "[[0., 1., 1., 1.],\n",
    " [0., 0., 1., 1.],\n",
    " [0., 0., 1., 1.],\n",
    " [0., 0., 1., 1.]]\n",
    "  \"\"\"\n",
    "print(\"슝=3\")\n",
    "\n",
    "print(create_look_ahead_mask(tf.constant([[1, 2, 3, 4, 5]])))\n",
    "print(create_look_ahead_mask(tf.constant([[0, 5, 1, 5, 5]])))\n",
    "\"\"\"[0, 5, 1, 5, 5] 예시\n",
    "[[1., 1., 1., 1., 1.],\n",
    " [1., 0., 1., 1., 1.],\n",
    " [1., 0., 0., 1., 1.],\n",
    " [1., 0., 0., 0., 1.],\n",
    " [1., 0., 0., 0., 0.]]\n",
    "두 정수 시퀀스에 대해서 각각 결과가 출력되는데, 오직 숫자가 0인 위치에서만 숫자 1이 나오고 숫자 0이 아닌 위치에서는 숫자 0인 벡터를 출력합니다.\n",
    "#어텐션 연산 시에 패딩 마스킹을 참고하면 불필요하게 숫자 0을 참고하지 않게 할 수 있겠죠?\"\"\"\n",
    "\n"
   ]
  },
  {
   "cell_type": "markdown",
   "metadata": {
    "id": "pBQJZd4FRJ7q"
   },
   "source": [
    "### -5. 인코더"
   ]
  },
  {
   "cell_type": "code",
   "execution_count": 113,
   "metadata": {
    "colab": {
     "base_uri": "https://localhost:8080/"
    },
    "id": "wWUcCdXWR1-p",
    "outputId": "569ddaf8-c131-48a3-d254-bdf4e7bd2979"
   },
   "outputs": [
    {
     "name": "stdout",
     "output_type": "stream",
     "text": [
      "슝=3\n"
     ]
    }
   ],
   "source": [
    "# 인코더 하나의 레이어를 함수로 구현.\n",
    "# 이 하나의 레이어 안에는 두 개의 서브 레이어가 존재합니다.\n",
    "def encoder_layer(units, d_model, num_heads, dropout, name=\"encoder_layer\"):\n",
    "  \"\"\"\t•\t입력 인자:\n",
    "\t•\tunits: 두 번째 서브 레이어의 첫 번째 완전 연결층에서 사용될 유닛 수 (히든 레이어의 크기).\n",
    "\t•\td_model: 모델 차원. 입력과 출력의 크기가 동일하게 유지됨.\n",
    "\t•\tnum_heads: 멀티 헤드 어텐션에서 사용할 헤드(head)의 개수.\n",
    "\t•\tdropout: 드롭아웃 비율.\n",
    "\t•\tname: 레이어의 이름 (기본값: “encoder_layer”).\n",
    "\t•\t출력:\n",
    "\t•\ttf.keras.Model 객체를 반환.\"\"\"\n",
    "\n",
    "  inputs = tf.keras.Input(shape=(None, d_model), name=\"inputs\")\n",
    "\n",
    "  # 패딩 마스크 사용\n",
    "  padding_mask = tf.keras.Input(shape=(1, 1, None), name=\"padding_mask\")\n",
    "  #\t•\t(batch_size, 1, 1, sequence_length) 형태.\n",
    "\n",
    "  # 첫 번째 서브 레이어 : 멀티 헤드 어텐션 수행 (셀프 어텐션)\n",
    "  attention = MultiHeadAttention(\n",
    "      d_model, num_heads, name=\"attention\")({\n",
    "          'query': inputs,\n",
    "          'key': inputs,\n",
    "          'value': inputs,\n",
    "          'mask': padding_mask #패딩 마스크(padding_mask)를 통해 패딩된 토큰의 영향을 제거.\n",
    "      })\n",
    "\n",
    "  # 어텐션의 결과는 Dropout과 Layer Normalization이라는 훈련을 돕는 테크닉을 수행\n",
    "  attention = tf.keras.layers.Dropout(rate=dropout)(attention) # 어텐션 결과에 드롭아웃을 적용해 과적합을 방지.\n",
    "  attention = tf.keras.layers.LayerNormalization(\n",
    "      epsilon=1e-6)(inputs + attention) # Residual Connection(잔차 연결): 입력(inputs)과 어텐션 결과(attention)를 더한 후 정규화\n",
    "      # inputs + attention: 원래 입력과 어텐션 결과를 더해 정보 손실을 방지.\n",
    "\n",
    "  # 두 번째 서브 레이어 : 2개의 완전연결층\n",
    "  outputs = tf.keras.layers.Dense(units=units, activation='relu')(attention)\n",
    "  \"\"\"\t•\t어텐션 결과에 ReLU 활성화를 적용한 완전 연결층.\n",
    "\t•\t출력 크기: (batch_size, sequence_length, units).\"\"\"\n",
    "\n",
    "  outputs = tf.keras.layers.Dense(units=d_model)(outputs)\n",
    "\n",
    "  # 완전연결층의 결과는 Dropout과 LayerNormalization이라는 훈련을 돕는 테크닉을 수행\n",
    "  outputs = tf.keras.layers.Dropout(rate=dropout)(outputs)\n",
    "  outputs = tf.keras.layers.LayerNormalization(\n",
    "      epsilon=1e-6)(attention + outputs)\n",
    "\n",
    "  return tf.keras.Model(\n",
    "      inputs=[inputs, padding_mask], outputs=outputs, name=name)\n",
    "print(\"슝=3\")"
   ]
  },
  {
   "cell_type": "markdown",
   "metadata": {
    "id": "f79EXk2BSXOG"
   },
   "source": [
    "인코더 층을 쌓아 인코더 만들기  \n",
    "이렇게 구현한 인코더 층을 임베딩 층(Embedding layer) 과 포지셔널 인코딩(Positional Encoding) 을 연결하고, 사용자가 원하는 만큼 인코더 층을 쌓음으로써 트랜스포머의 인코더가 완성됩니다.\n",
    "\n",
    "인코더와 디코더 내부에서는 각 서브 층 이후에 훈련을 돕는 Layer Normalization이라는 테크닉이 사용되었습니다. 위 그림에서는 Normalize라고 표시된 부분에 해당됩니다.\n",
    "\n",
    "트랜스포머는 하이퍼파라미터인 num_layers 개수의 인코더 층을 쌓습니다. 논문에서는 총 6개의 인코더 층을 사용하였지만, 실습에서는 학습 시간을 고려하여 그보다 적은 개수를 사용할 예정입니다."
   ]
  },
  {
   "cell_type": "code",
   "execution_count": 114,
   "metadata": {
    "colab": {
     "base_uri": "https://localhost:8080/"
    },
    "id": "xS0k6Bo2R3_p",
    "outputId": "a86bbffe-efd1-4265-fdc6-bcae8371d85d"
   },
   "outputs": [
    {
     "name": "stdout",
     "output_type": "stream",
     "text": [
      "슝=3\n"
     ]
    }
   ],
   "source": [
    "def encoder(vocab_size,\n",
    "            num_layers,\n",
    "            units,\n",
    "            d_model,\n",
    "            num_heads,\n",
    "            dropout,\n",
    "            name=\"encoder\"):\n",
    "\n",
    "  inputs = tf.keras.Input(shape=(None,), name=\"inputs\")\n",
    "\n",
    "  # 패딩 마스크 사용\n",
    "  padding_mask = tf.keras.Input(shape=(1, 1, None), name=\"padding_mask\")\n",
    "\n",
    "  # 임베딩 레이어\n",
    "  embeddings = tf.keras.layers.Embedding(vocab_size, d_model)(inputs)\n",
    "  embeddings *= tf.math.sqrt(tf.cast(d_model, tf.float32))\n",
    "\n",
    "  # 포지셔널 인코딩\n",
    "  embeddings = PositionalEncoding(vocab_size, d_model)(embeddings)\n",
    "\n",
    "  outputs = tf.keras.layers.Dropout(rate=dropout)(embeddings)\n",
    "\n",
    "  # num_layers만큼 쌓아올린 인코더의 층.\n",
    "  for i in range(num_layers):\n",
    "    outputs = encoder_layer(\n",
    "        units=units,\n",
    "        d_model=d_model,\n",
    "        num_heads=num_heads,\n",
    "        dropout=dropout,\n",
    "        name=\"encoder_layer_{}\".format(i),\n",
    "    )([outputs, padding_mask])\n",
    "\n",
    "  return tf.keras.Model(\n",
    "      inputs=[inputs, padding_mask], outputs=outputs, name=name)\n",
    "print(\"슝=3\")"
   ]
  },
  {
   "cell_type": "markdown",
   "metadata": {
    "id": "J7Y8oTBiRJ1c"
   },
   "source": [
    "### -6. 디코더"
   ]
  },
  {
   "cell_type": "code",
   "execution_count": 115,
   "metadata": {
    "colab": {
     "base_uri": "https://localhost:8080/"
    },
    "id": "odZCsqhaSQlv",
    "outputId": "3d1c64a0-e28a-43d9-ddfc-70cc7d320cb9"
   },
   "outputs": [
    {
     "name": "stdout",
     "output_type": "stream",
     "text": [
      "슝=3\n"
     ]
    }
   ],
   "source": [
    "# 디코더 하나의 레이어를 함수로 구현.\n",
    "# 이 하나의 레이어 안에는 세 개의 서브 레이어가 존재합니다.\n",
    "def decoder_layer(units, d_model, num_heads, dropout, name=\"decoder_layer\"):\n",
    "  inputs = tf.keras.Input(shape=(None, d_model), name=\"inputs\")\n",
    "  enc_outputs = tf.keras.Input(shape=(None, d_model), name=\"encoder_outputs\")\n",
    "  look_ahead_mask = tf.keras.Input(\n",
    "      shape=(1, None, None), name=\"look_ahead_mask\")\n",
    "  padding_mask = tf.keras.Input(shape=(1, 1, None), name='padding_mask')\n",
    "\n",
    "  # 첫 번째 서브 레이어 : 멀티 헤드 어텐션 수행 (셀프 어텐션)\n",
    "  attention1 = MultiHeadAttention(\n",
    "      d_model, num_heads, name=\"attention_1\")(inputs={\n",
    "          'query': inputs,\n",
    "          'key': inputs,\n",
    "          'value': inputs,\n",
    "          'mask': look_ahead_mask\n",
    "      })\n",
    "\n",
    "  # 멀티 헤드 어텐션의 결과는 LayerNormalization이라는 훈련을 돕는 테크닉을 수행\n",
    "  attention1 = tf.keras.layers.LayerNormalization(\n",
    "      epsilon=1e-6)(attention1 + inputs) # Residual Connection(잔차 연결): 원래 입력(inputs)과 어텐션 결과를 더함.\n",
    "\n",
    "\n",
    "\n",
    "  # 두 번째 서브 레이어 : 마스크드 멀티 헤드 어텐션 수행 (인코더-디코더 어텐션)\n",
    "  attention2 = MultiHeadAttention(\n",
    "      d_model, num_heads, name=\"attention_2\")(inputs={\n",
    "          'query': attention1,\n",
    "          'key': enc_outputs, # Key, Value: 인코더 출력(enc_outputs).\n",
    "          'value': enc_outputs,\n",
    "          'mask': padding_mask # Padding Mask를 적용하여 인코더 출력에서 패딩된 토큰을 무시.\n",
    "      })\n",
    "\n",
    "  # 마스크드 멀티 헤드 어텐션의 결과는\n",
    "  # Dropout과 LayerNormalization이라는 훈련을 돕는 테크닉을 수행\n",
    "  attention2 = tf.keras.layers.Dropout(rate=dropout)(attention2)\n",
    "  attention2 = tf.keras.layers.LayerNormalization(\n",
    "      epsilon=1e-6)(attention2 + attention1)\n",
    "\n",
    "\n",
    "\n",
    "  # 세 번째 서브 레이어 : 2개의 완전연결층 = 피드포워드 네트워크\n",
    "  outputs = tf.keras.layers.Dense(units=units, activation='relu')(attention2)\n",
    "  outputs = tf.keras.layers.Dense(units=d_model)(outputs)\n",
    "\n",
    "  # 완전연결층의 결과는 Dropout과 LayerNormalization 수행\n",
    "  outputs = tf.keras.layers.Dropout(rate=dropout)(outputs)\n",
    "  outputs = tf.keras.layers.LayerNormalization(\n",
    "      epsilon=1e-6)(outputs + attention2)\n",
    "\n",
    "  return tf.keras.Model(\n",
    "      inputs=[inputs, enc_outputs, look_ahead_mask, padding_mask],\n",
    "      outputs=outputs,\n",
    "      name=name)\n",
    "print(\"슝=3\")"
   ]
  },
  {
   "cell_type": "markdown",
   "metadata": {
    "id": "c2tZW3aiST2e"
   },
   "source": [
    "디코더 층을 쌓아 디코더 만들기  \n",
    "이렇게 구현한 디코더의 층은 임베딩 층(Embedding layer) 과 포지셔널 인코딩(Positional Encoding) 을 연결하고, 사용자가 원하는 만큼 디코더 층을 쌓아 트랜스포머의 디코더가 완성됩니다.\n",
    "\n",
    "인코더와 마찬가지로 num_layers 개수의 디코더 층을 쌓습니다. 논문에서는 총 6개의 디코더 층을 사용하였지만, 실습에서는 학습 시간을 고려하여 그보다 적은 개수를 사용할 예정입니다.\n"
   ]
  },
  {
   "cell_type": "code",
   "execution_count": 116,
   "metadata": {
    "colab": {
     "base_uri": "https://localhost:8080/"
    },
    "id": "GYJTRebmSQtS",
    "outputId": "94e860c3-a90a-4586-d1e7-b03c5eb0d092"
   },
   "outputs": [
    {
     "name": "stdout",
     "output_type": "stream",
     "text": [
      "슝=3\n"
     ]
    }
   ],
   "source": [
    "# 디코더 층 쌓아 디코더 만들기\n",
    "def decoder(vocab_size,\n",
    "            num_layers,\n",
    "            units,\n",
    "            d_model,\n",
    "            num_heads,\n",
    "            dropout,\n",
    "            name='decoder'):\n",
    "  inputs = tf.keras.Input(shape=(None,), name='inputs')\n",
    "  enc_outputs = tf.keras.Input(shape=(None, d_model), name='encoder_outputs')\n",
    "  look_ahead_mask = tf.keras.Input(\n",
    "      shape=(1, None, None), name='look_ahead_mask')\n",
    "\n",
    "  # 패딩 마스크\n",
    "  padding_mask = tf.keras.Input(shape=(1, 1, None), name='padding_mask')\n",
    "\n",
    "  # 임베딩 레이어\n",
    "  embeddings = tf.keras.layers.Embedding(vocab_size, d_model)(inputs)\n",
    "  embeddings *= tf.math.sqrt(tf.cast(d_model, tf.float32))\n",
    "\n",
    "  # 포지셔널 인코딩\n",
    "  embeddings = PositionalEncoding(vocab_size, d_model)(embeddings)\n",
    "\n",
    "  # Dropout이라는 훈련을 돕는 테크닉을 수행\n",
    "  outputs = tf.keras.layers.Dropout(rate=dropout)(embeddings)\n",
    "\n",
    "  for i in range(num_layers):\n",
    "    outputs = decoder_layer(\n",
    "        units=units,\n",
    "        d_model=d_model,\n",
    "        num_heads=num_heads,\n",
    "        dropout=dropout,\n",
    "        name='decoder_layer_{}'.format(i),\n",
    "    )(inputs=[outputs, enc_outputs, look_ahead_mask, padding_mask])\n",
    "\n",
    "  return tf.keras.Model(\n",
    "      inputs=[inputs, enc_outputs, look_ahead_mask, padding_mask],\n",
    "      outputs=outputs,\n",
    "      name=name)\n",
    "print(\"슝=3\")"
   ]
  },
  {
   "cell_type": "markdown",
   "metadata": {
    "id": "q4S7jQlsRJup"
   },
   "source": [
    "### -7. 모델 정의 및 학습하기"
   ]
  },
  {
   "cell_type": "code",
   "execution_count": 117,
   "metadata": {
    "colab": {
     "base_uri": "https://localhost:8080/"
    },
    "id": "zhH90NExSh7e",
    "outputId": "e993ddf3-5124-4739-e0d7-7d4d245e7ea3"
   },
   "outputs": [
    {
     "name": "stdout",
     "output_type": "stream",
     "text": [
      "슝=3\n"
     ]
    }
   ],
   "source": [
    "def transformer(vocab_size,\n",
    "                num_layers,\n",
    "                units,\n",
    "                d_model,\n",
    "                num_heads,\n",
    "                dropout,\n",
    "                name=\"transformer\"):\n",
    "  inputs = tf.keras.Input(shape=(None,), name=\"inputs\")\n",
    "  dec_inputs = tf.keras.Input(shape=(None,), name=\"dec_inputs\")\n",
    "\n",
    "  # 인코더에서 패딩을 위한 마스크\n",
    "  enc_padding_mask = tf.keras.layers.Lambda(\n",
    "      create_padding_mask, output_shape=(1, 1, None),\n",
    "      name='enc_padding_mask')(inputs)\n",
    "\n",
    "  # 디코더에서 미래의 토큰을 마스크 하기 위해서 사용합니다.\n",
    "  # 내부적으로 패딩 마스크도 포함되어져 있습니다.\n",
    "  look_ahead_mask = tf.keras.layers.Lambda(\n",
    "      create_look_ahead_mask,\n",
    "      output_shape=(1, None, None),\n",
    "      name='look_ahead_mask')(dec_inputs)\n",
    "\n",
    "  # 두 번째 어텐션 블록에서 인코더의 벡터들을 마스킹\n",
    "  # 디코더에서 패딩을 위한 마스크\n",
    "  dec_padding_mask = tf.keras.layers.Lambda(\n",
    "      create_padding_mask, output_shape=(1, 1, None),\n",
    "      name='dec_padding_mask')(inputs)\n",
    "\n",
    "  # 인코더\n",
    "  enc_outputs = encoder(\n",
    "      vocab_size=vocab_size,\n",
    "      num_layers=num_layers,\n",
    "      units=units,\n",
    "      d_model=d_model,\n",
    "      num_heads=num_heads,\n",
    "      dropout=dropout,\n",
    "  )(inputs=[inputs, enc_padding_mask])\n",
    "\n",
    "  # 디코더\n",
    "  dec_outputs = decoder(\n",
    "      vocab_size=vocab_size,\n",
    "      num_layers=num_layers,\n",
    "      units=units,\n",
    "      d_model=d_model,\n",
    "      num_heads=num_heads,\n",
    "      dropout=dropout,\n",
    "  )(inputs=[dec_inputs, enc_outputs, look_ahead_mask, dec_padding_mask])\n",
    "\n",
    "  # 완전연결층\n",
    "  outputs = tf.keras.layers.Dense(units=vocab_size, name=\"outputs\")(dec_outputs)\n",
    "\n",
    "  return tf.keras.Model(inputs=[inputs, dec_inputs], outputs=outputs, name=name)\n",
    "print(\"슝=3\")"
   ]
  },
  {
   "cell_type": "code",
   "execution_count": 135,
   "metadata": {
    "colab": {
     "base_uri": "https://localhost:8080/",
     "height": 442
    },
    "id": "2bqJZ-oySlKx",
    "outputId": "c867af37-0624-458a-faf2-f9b4feca0646"
   },
   "outputs": [
    {
     "name": "stdout",
     "output_type": "stream",
     "text": [
      "Model: \"transformer\"\n",
      "__________________________________________________________________________________________________\n",
      "Layer (type)                    Output Shape         Param #     Connected to                     \n",
      "==================================================================================================\n",
      "inputs (InputLayer)             [(None, None)]       0                                            \n",
      "__________________________________________________________________________________________________\n",
      "dec_inputs (InputLayer)         [(None, None)]       0                                            \n",
      "__________________________________________________________________________________________________\n",
      "enc_padding_mask (Lambda)       (None, 1, 1, None)   0           inputs[0][0]                     \n",
      "__________________________________________________________________________________________________\n",
      "encoder (Functional)            (None, None, 256)    3143936     inputs[0][0]                     \n",
      "                                                                 enc_padding_mask[0][0]           \n",
      "__________________________________________________________________________________________________\n",
      "look_ahead_mask (Lambda)        (None, 1, None, None 0           dec_inputs[0][0]                 \n",
      "__________________________________________________________________________________________________\n",
      "dec_padding_mask (Lambda)       (None, 1, 1, None)   0           inputs[0][0]                     \n",
      "__________________________________________________________________________________________________\n",
      "decoder (Functional)            (None, None, 256)    3671296     dec_inputs[0][0]                 \n",
      "                                                                 encoder[0][0]                    \n",
      "                                                                 look_ahead_mask[0][0]            \n",
      "                                                                 dec_padding_mask[0][0]           \n",
      "__________________________________________________________________________________________________\n",
      "outputs (Dense)                 (None, None, 8163)   2097891     decoder[0][0]                    \n",
      "==================================================================================================\n",
      "Total params: 8,913,123\n",
      "Trainable params: 8,913,123\n",
      "Non-trainable params: 0\n",
      "__________________________________________________________________________________________________\n"
     ]
    }
   ],
   "source": [
    "tf.keras.backend.clear_session()\n",
    "\n",
    "# 하이퍼파라미터\n",
    "NUM_LAYERS = 2 # 인코더와 디코더의 층의 개수\n",
    "D_MODEL = 256 # 인코더와 디코더 내부의 입, 출력의 고정 차원\n",
    "NUM_HEADS = 8 # 멀티 헤드 어텐션에서의 헤드 수\n",
    "UNITS = 512 # 피드 포워드 신경망의 은닉층의 크기\n",
    "DROPOUT = 0.1 # 드롭아웃의 비율\n",
    "\n",
    "model = transformer(\n",
    "    vocab_size=VOCAB_SIZE,\n",
    "    num_layers=NUM_LAYERS,\n",
    "    units=UNITS,\n",
    "    d_model=D_MODEL,\n",
    "    num_heads=NUM_HEADS,\n",
    "    dropout=DROPOUT)\n",
    "\n",
    "model.summary()"
   ]
  },
  {
   "cell_type": "markdown",
   "metadata": {
    "id": "QnEIn75aRJm0"
   },
   "source": [
    "### -8. 손실함수  \n",
    "레이블인 시퀀스에 패딩이 되어 있으므로, loss를 계산할 때 패딩 마스크를 적용해야 합니다."
   ]
  },
  {
   "cell_type": "code",
   "execution_count": 136,
   "metadata": {
    "id": "0lHqxw5WSvVV"
   },
   "outputs": [],
   "source": [
    "@tf.function\n",
    "def loss_function(y_true, y_pred):\n",
    "    y_true = tf.reshape(y_true, shape=(-1, MAX_LENGTH - 1))\n",
    "    y_pred = y_pred[:, :tf.shape(y_true)[1], :]  # y_true 길이에 맞추기\n",
    "\n",
    "    loss = tf.keras.losses.SparseCategoricalCrossentropy(\n",
    "        from_logits=True, reduction='none')(y_true, y_pred)\n",
    "\n",
    "    mask = tf.cast(tf.not_equal(y_true, 0), tf.float32)\n",
    "    loss = tf.multiply(loss, mask)\n",
    "\n",
    "    return tf.reduce_mean(loss)"
   ]
  },
  {
   "cell_type": "markdown",
   "metadata": {
    "id": "YR7eq6f_axL_"
   },
   "source": [
    "- 디버깅 : y_true : 출력 39 / y_pred 출력길이 40 으로 모델 훈련시 오류가 났었습니다.\n",
    "- 그 이유는, 디코더 입력(dec_inputs)에 시작 토큰(START_TOKEN)을 추가하고, 타겟(outputs)에서 종료 토큰(END_TOKEN)을 제외했기 때문입니다. 즉 y_pred의 길이가 길게끔, 모델이 전체 시퀀스 길이(40)로 예측을 생성했기 때문입니다.\n",
    "-   y_pred = y_pred[:, :tf.shape(y_true)[1], :]  # (None, 39, vocab_size)\n",
    " 으로, start 토큰을 제외시켜줍니다."
   ]
  },
  {
   "cell_type": "markdown",
   "metadata": {
    "id": "2kpbYAnCRJeP"
   },
   "source": [
    "### -9. 커스텀 된 학습률(Learning rate)\n",
    "딥러닝 모델학습 시 learning rate는 매우 중요한 하이퍼파라미터입니다. 최근에는 모델학습 초기에 learning rate를 급격히 높였다가, 이후 train step이 진행됨에 따라 서서히 낮추어 가면서 안정적으로 수렴하게 하는 고급 기법을 널리 사용하고 있습니다. 이런 방법을 커스텀 학습률 스케줄링(Custom Learning rate Scheduling)이라고 합니다.\n",
    "\n",
    "논문에 나온 공식을 참고하여 커스텀 학습률 스케줄러를 통한 아담 옵티마이저를 사용"
   ]
  },
  {
   "cell_type": "code",
   "execution_count": 137,
   "metadata": {
    "colab": {
     "base_uri": "https://localhost:8080/",
     "height": 467
    },
    "id": "VNfc7PdfS2H8",
    "outputId": "118b7687-af21-4bdc-ae6a-359a8702fc73"
   },
   "outputs": [
    {
     "data": {
      "image/png": "[encoded data removed]",
      "text/plain": [
       "<Figure size 432x288 with 1 Axes>"
      ]
     },
     "metadata": {
      "needs_background": "light"
     },
     "output_type": "display_data"
    }
   ],
   "source": [
    "class CustomSchedule(tf.keras.optimizers.schedules.LearningRateSchedule):\n",
    "\n",
    "    def __init__(self, d_model, warmup_steps=4000):\n",
    "        \"\"\"\n",
    "        학습률 스케줄을 정의합니다.\n",
    "\n",
    "        Args:\n",
    "            d_model (int): 모델 차원.\n",
    "            warmup_steps (int): 워밍업 단계의 수.\n",
    "        \"\"\"\n",
    "        super(CustomSchedule, self).__init__()\n",
    "\n",
    "        self.d_model = d_model\n",
    "        self.d_model = tf.cast(self.d_model, tf.float32)\n",
    "\n",
    "        self.warmup_steps = warmup_steps\n",
    "\n",
    "    def __call__(self, step):\n",
    "        \"\"\"\n",
    "        학습률을 계산합니다.\n",
    "\n",
    "        Args:\n",
    "            step (int): 현재 학습 단계.\n",
    "\n",
    "        Returns:\n",
    "            tf.Tensor: 학습률.\n",
    "        \"\"\"\n",
    "        # step을 float으로 변환\n",
    "        step = tf.cast(step, tf.float32)\n",
    "        arg1 = tf.math.rsqrt(step)\n",
    "        arg2 = step * (self.warmup_steps**-1.5)\n",
    "\n",
    "        return tf.math.rsqrt(self.d_model) * tf.math.minimum(arg1, arg2)\n",
    "\n",
    "    def get_config(self):\n",
    "        \"\"\"\n",
    "        직렬화를 위한 설정 반환.\n",
    "\n",
    "        Returns:\n",
    "            dict: 클래스 매개변수의 설정.\n",
    "        \"\"\"\n",
    "        return {\n",
    "            \"d_model\": self.d_model.numpy(),  # 텐서를 numpy 값으로 변환\n",
    "            \"warmup_steps\": self.warmup_steps\n",
    "        }\n",
    "\n",
    "# 샘플 학습률 스케줄링 시각화\n",
    "sample_learning_rate = CustomSchedule(d_model=128)\n",
    "\n",
    "plt.plot(sample_learning_rate(tf.range(200000, dtype=tf.float32)))\n",
    "plt.ylabel(\"Learning Rate\")\n",
    "plt.xlabel(\"Train Step\")\n",
    "plt.show()"
   ]
  },
  {
   "cell_type": "markdown",
   "metadata": {
    "id": "bz4eG23NRJRe"
   },
   "source": [
    "### -10. 모델 컴파일 및 훈련"
   ]
  },
  {
   "cell_type": "markdown",
   "metadata": {},
   "source": [
    "- 데이터 셋 나누기 (loss 평가 위해)"
   ]
  },
  {
   "cell_type": "code",
   "execution_count": 138,
   "metadata": {
    "id": "Qzn48tzsYy7k"
   },
   "outputs": [],
   "source": [
    "# val_loss 구하기 위해, 데이터 셋 분리\n",
    "from sklearn.model_selection import train_test_split\n",
    "\n",
    "# 데이터셋 분리 (80% 학습, 20% 검증)\n",
    "X_train, X_val, y_train, y_val = train_test_split(\n",
    "    questions, answers, test_size=0.2, random_state=42\n",
    ")\n",
    "\n",
    "from tensorflow.keras.preprocessing.sequence import pad_sequences\n",
    "\n",
    "# 패딩 처리\n",
    "X_train = pad_sequences(X_train, maxlen=MAX_LENGTH, padding='post')\n",
    "X_val = pad_sequences(X_val, maxlen=MAX_LENGTH, padding='post')\n",
    "y_train = pad_sequences(y_train, maxlen=MAX_LENGTH, padding='post')\n",
    "y_val = pad_sequences(y_val, maxlen=MAX_LENGTH, padding='post')\n",
    "\n",
    "# 학습 데이터셋\n",
    "train_dataset = tf.data.Dataset.from_tensor_slices((\n",
    "    {\n",
    "        'inputs': X_train,           # 입력 데이터\n",
    "        'dec_inputs': y_train[:, :-1]  # 디코더 입력 (마지막 토큰 제외)\n",
    "    },\n",
    "    {\n",
    "        'outputs': y_train[:, 1:]      # 디코더 출력 (첫 번째 토큰 제외)\n",
    "    }\n",
    ")).batch(BATCH_SIZE)\n",
    "\n",
    "# 검증 데이터셋\n",
    "val_dataset = tf.data.Dataset.from_tensor_slices((\n",
    "    {\n",
    "        'inputs': X_val,            # 입력 데이터\n",
    "        'dec_inputs': y_val[:, :-1]   # 디코더 입력 (마지막 토큰 제외)\n",
    "    },\n",
    "    {\n",
    "        'outputs': y_val[:, 1:]       # 디코더 출력 (첫 번째 토큰 제외)\n",
    "    }\n",
    ")).batch(BATCH_SIZE)"
   ]
  },
  {
   "cell_type": "code",
   "execution_count": 139,
   "metadata": {
    "id": "pxdeRbthdrik"
   },
   "outputs": [],
   "source": [
    "# accuracy\n",
    "\n",
    "from tensorflow.keras.callbacks import ModelCheckpoint\n",
    "learning_rate = CustomSchedule(D_MODEL)\n",
    "\n",
    "optimizer = tf.keras.optimizers.Adam(\n",
    "    learning_rate, beta_1=0.9, beta_2=0.98, epsilon=1e-9)\n",
    "\n",
    "@tf.function\n",
    "def accuracy(y_true, y_pred):\n",
    "    # y_pred의 시퀀스 길이를 y_true에 맞춤\n",
    "    y_pred = y_pred[:, :tf.shape(y_true)[1], :]  # y_true의 길이에 맞춤\n",
    "\n",
    "    # y_pred에서 가장 높은 확률을 가진 인덱스 선택\n",
    "    y_pred = tf.argmax(y_pred, axis=-1)  # (batch_size, sequence_length)\n",
    "\n",
    "    # y_true와 y_pred를 동일한 데이터 타입으로 변환\n",
    "    y_true = tf.cast(y_true, dtype=tf.int32)\n",
    "    y_pred = tf.cast(y_pred, dtype=tf.int32)\n",
    "\n",
    "    # y_true와 y_pred를 1차원으로 변환\n",
    "    y_true = tf.reshape(y_true, shape=(-1,))\n",
    "    y_pred = tf.reshape(y_pred, shape=(-1,))\n",
    "\n",
    "    # y_true와 y_pred가 동일한지 비교\n",
    "    matches = tf.cast(tf.equal(y_true, y_pred), tf.float32)\n",
    "\n",
    "    # 정확도 계산\n",
    "    return tf.reduce_mean(matches)"
   ]
  },
  {
   "cell_type": "code",
   "execution_count": 85,
   "metadata": {
    "scrolled": true
   },
   "outputs": [
    {
     "name": "stdout",
     "output_type": "stream",
     "text": [
      "Epoch 1/30\n",
      "148/148 [==============================] - 15s 68ms/step - loss: 1.3317 - accuracy: 0.0488 - val_loss: 1.2565 - val_accuracy: 0.0496\n",
      "Epoch 2/30\n",
      "148/148 [==============================] - 9s 61ms/step - loss: 1.1784 - accuracy: 0.0494 - val_loss: 1.0982 - val_accuracy: 0.0500\n",
      "Epoch 3/30\n",
      "148/148 [==============================] - 9s 61ms/step - loss: 1.0393 - accuracy: 0.0500 - val_loss: 0.9975 - val_accuracy: 0.0514\n",
      "Epoch 4/30\n",
      "148/148 [==============================] - 9s 62ms/step - loss: 0.9597 - accuracy: 0.0522 - val_loss: 0.9474 - val_accuracy: 0.0546\n",
      "Epoch 5/30\n",
      "148/148 [==============================] - 9s 62ms/step - loss: 0.9068 - accuracy: 0.0552 - val_loss: 0.9128 - val_accuracy: 0.0563\n",
      "Epoch 6/30\n",
      "148/148 [==============================] - 9s 61ms/step - loss: 0.8564 - accuracy: 0.0581 - val_loss: 0.8833 - val_accuracy: 0.0584\n",
      "Epoch 7/30\n",
      "148/148 [==============================] - 9s 61ms/step - loss: 0.8061 - accuracy: 0.0616 - val_loss: 0.8555 - val_accuracy: 0.0607\n",
      "Epoch 8/30\n",
      "148/148 [==============================] - 9s 61ms/step - loss: 0.7523 - accuracy: 0.0663 - val_loss: 0.8194 - val_accuracy: 0.0645\n",
      "Epoch 9/30\n",
      "148/148 [==============================] - 9s 61ms/step - loss: 0.6925 - accuracy: 0.0727 - val_loss: 0.7925 - val_accuracy: 0.0679\n",
      "Epoch 10/30\n",
      "148/148 [==============================] - 9s 61ms/step - loss: 0.6285 - accuracy: 0.0798 - val_loss: 0.7689 - val_accuracy: 0.0706\n",
      "Epoch 11/30\n",
      "148/148 [==============================] - 9s 61ms/step - loss: 0.5614 - accuracy: 0.0875 - val_loss: 0.7565 - val_accuracy: 0.0723\n",
      "Epoch 12/30\n",
      "148/148 [==============================] - 9s 61ms/step - loss: 0.4919 - accuracy: 0.0959 - val_loss: 0.7376 - val_accuracy: 0.0757\n",
      "Epoch 13/30\n",
      "148/148 [==============================] - 9s 61ms/step - loss: 0.4230 - accuracy: 0.1042 - val_loss: 0.7235 - val_accuracy: 0.0772\n",
      "Epoch 14/30\n",
      "148/148 [==============================] - 9s 61ms/step - loss: 0.3548 - accuracy: 0.1140 - val_loss: 0.7190 - val_accuracy: 0.0791\n",
      "Epoch 15/30\n",
      "148/148 [==============================] - 9s 61ms/step - loss: 0.2907 - accuracy: 0.1234 - val_loss: 0.7158 - val_accuracy: 0.0826\n",
      "Epoch 16/30\n",
      "148/148 [==============================] - 9s 61ms/step - loss: 0.2331 - accuracy: 0.1323 - val_loss: 0.7282 - val_accuracy: 0.0845\n",
      "Epoch 17/30\n",
      "148/148 [==============================] - 9s 61ms/step - loss: 0.1811 - accuracy: 0.1413 - val_loss: 0.7285 - val_accuracy: 0.0872\n",
      "Epoch 18/30\n",
      "148/148 [==============================] - 9s 61ms/step - loss: 0.1381 - accuracy: 0.1489 - val_loss: 0.7337 - val_accuracy: 0.0891\n",
      "Epoch 19/30\n",
      "148/148 [==============================] - 9s 61ms/step - loss: 0.1024 - accuracy: 0.1556 - val_loss: 0.7596 - val_accuracy: 0.0912\n",
      "Epoch 20/30\n",
      "148/148 [==============================] - 9s 61ms/step - loss: 0.0731 - accuracy: 0.1612 - val_loss: 0.7761 - val_accuracy: 0.0923\n",
      "Epoch 21/30\n",
      "148/148 [==============================] - 9s 61ms/step - loss: 0.0574 - accuracy: 0.1639 - val_loss: 0.7984 - val_accuracy: 0.0926\n",
      "Epoch 22/30\n",
      "148/148 [==============================] - 9s 61ms/step - loss: 0.0472 - accuracy: 0.1652 - val_loss: 0.8203 - val_accuracy: 0.0930\n",
      "Epoch 23/30\n",
      "148/148 [==============================] - 9s 61ms/step - loss: 0.0398 - accuracy: 0.1663 - val_loss: 0.8444 - val_accuracy: 0.0941\n",
      "Epoch 24/30\n",
      "148/148 [==============================] - 9s 61ms/step - loss: 0.0349 - accuracy: 0.1669 - val_loss: 0.8634 - val_accuracy: 0.0942\n",
      "Epoch 25/30\n",
      "148/148 [==============================] - 9s 61ms/step - loss: 0.0323 - accuracy: 0.1674 - val_loss: 0.8828 - val_accuracy: 0.0942\n",
      "Epoch 26/30\n",
      "148/148 [==============================] - 9s 61ms/step - loss: 0.0307 - accuracy: 0.1674 - val_loss: 0.9044 - val_accuracy: 0.0946\n",
      "Epoch 27/30\n",
      "148/148 [==============================] - 9s 61ms/step - loss: 0.0301 - accuracy: 0.1675 - val_loss: 0.9080 - val_accuracy: 0.0945\n",
      "Epoch 28/30\n",
      "148/148 [==============================] - 9s 61ms/step - loss: 0.0280 - accuracy: 0.1679 - val_loss: 0.9249 - val_accuracy: 0.0937\n",
      "Epoch 29/30\n",
      "148/148 [==============================] - 9s 61ms/step - loss: 0.0262 - accuracy: 0.1684 - val_loss: 0.9380 - val_accuracy: 0.0951\n",
      "Epoch 30/30\n",
      "148/148 [==============================] - 9s 61ms/step - loss: 0.0222 - accuracy: 0.1694 - val_loss: 0.9459 - val_accuracy: 0.0955\n"
     ]
    }
   ],
   "source": [
    "# 모델 체크포인트 디버깅 되지 않았을때, 훈련\n",
    "# # 모델 컴파일\n",
    "# model.compile(\n",
    "#     optimizer=optimizer,\n",
    "#     loss=loss_function,  # 수정된 손실 함수\n",
    "#     metrics=[accuracy]   # 수정된 정확도 함수\n",
    "# )\n",
    "\n",
    "# # 모델 훈련\n",
    "# history = model.fit(\n",
    "#     train_dataset,\n",
    "#     validation_data=val_dataset,\n",
    "#     epochs=30,\n",
    "#     verbose=1  # 진행 상황 표시\n",
    "# )"
   ]
  },
  {
   "cell_type": "markdown",
   "metadata": {},
   "source": [
    "- 디버깅 시작 model compile, fit 오류 -> loss함수 수정\n",
    "- 훈련 1차시도 및 시각화"
   ]
  },
  {
   "cell_type": "code",
   "execution_count": 124,
   "metadata": {},
   "outputs": [
    {
     "name": "stdout",
     "output_type": "stream",
     "text": [
      "Inputs shape: (64, 40)\n",
      "Decoder Inputs shape: (64, 39)\n",
      "Outputs shape: (64, 39)\n"
     ]
    }
   ],
   "source": [
    "for data in train_dataset.take(1):\n",
    "    print(\"Inputs shape:\", data[0]['inputs'].shape)\n",
    "    print(\"Decoder Inputs shape:\", data[0]['dec_inputs'].shape)\n",
    "    print(\"Outputs shape:\", data[1]['outputs'].shape)"
   ]
  },
  {
   "cell_type": "code",
   "execution_count": 140,
   "metadata": {
    "colab": {
     "base_uri": "https://localhost:8080/"
    },
    "id": "kRfh6ARgctcA",
    "outputId": "97e6454d-7008-46e2-ebc1-a6d0d097ea0e",
    "scrolled": false
   },
   "outputs": [
    {
     "name": "stdout",
     "output_type": "stream",
     "text": [
      "Epoch 1/30\n",
      "148/148 [==============================] - 16s 69ms/step - loss: 1.4766 - accuracy: 0.0254 - val_loss: 1.3641 - val_accuracy: 0.0491\n",
      "\n",
      "Epoch 00001: val_loss improved from inf to 1.36411, saving model to ~/aiffel/Untitled Folder/best_model_chatbot.keras\n",
      "Epoch 2/30\n",
      "148/148 [==============================] - 9s 61ms/step - loss: 1.2575 - accuracy: 0.0490 - val_loss: 1.1415 - val_accuracy: 0.0496\n",
      "\n",
      "Epoch 00002: val_loss improved from 1.36411 to 1.14152, saving model to ~/aiffel/Untitled Folder/best_model_chatbot.keras\n",
      "Epoch 3/30\n",
      "148/148 [==============================] - 9s 61ms/step - loss: 1.0664 - accuracy: 0.0498 - val_loss: 1.0105 - val_accuracy: 0.0508\n",
      "\n",
      "Epoch 00003: val_loss improved from 1.14152 to 1.01045, saving model to ~/aiffel/Untitled Folder/best_model_chatbot.keras\n",
      "Epoch 4/30\n",
      "148/148 [==============================] - 9s 62ms/step - loss: 0.9693 - accuracy: 0.0517 - val_loss: 0.9535 - val_accuracy: 0.0541\n",
      "\n",
      "Epoch 00004: val_loss improved from 1.01045 to 0.95353, saving model to ~/aiffel/Untitled Folder/best_model_chatbot.keras\n",
      "Epoch 5/30\n",
      "148/148 [==============================] - 9s 62ms/step - loss: 0.9154 - accuracy: 0.0548 - val_loss: 0.9203 - val_accuracy: 0.0559\n",
      "\n",
      "Epoch 00005: val_loss improved from 0.95353 to 0.92028, saving model to ~/aiffel/Untitled Folder/best_model_chatbot.keras\n",
      "Epoch 6/30\n",
      "148/148 [==============================] - 9s 61ms/step - loss: 0.8664 - accuracy: 0.0572 - val_loss: 0.8862 - val_accuracy: 0.0581\n",
      "\n",
      "Epoch 00006: val_loss improved from 0.92028 to 0.88616, saving model to ~/aiffel/Untitled Folder/best_model_chatbot.keras\n",
      "Epoch 7/30\n",
      "148/148 [==============================] - 9s 61ms/step - loss: 0.8147 - accuracy: 0.0606 - val_loss: 0.8597 - val_accuracy: 0.0602\n",
      "\n",
      "Epoch 00007: val_loss improved from 0.88616 to 0.85965, saving model to ~/aiffel/Untitled Folder/best_model_chatbot.keras\n",
      "Epoch 8/30\n",
      "148/148 [==============================] - 9s 61ms/step - loss: 0.7599 - accuracy: 0.0654 - val_loss: 0.8230 - val_accuracy: 0.0637\n",
      "\n",
      "Epoch 00008: val_loss improved from 0.85965 to 0.82297, saving model to ~/aiffel/Untitled Folder/best_model_chatbot.keras\n",
      "Epoch 9/30\n",
      "148/148 [==============================] - 9s 61ms/step - loss: 0.6992 - accuracy: 0.0718 - val_loss: 0.7953 - val_accuracy: 0.0673\n",
      "\n",
      "Epoch 00009: val_loss improved from 0.82297 to 0.79534, saving model to ~/aiffel/Untitled Folder/best_model_chatbot.keras\n",
      "Epoch 10/30\n",
      "148/148 [==============================] - 9s 61ms/step - loss: 0.6342 - accuracy: 0.0791 - val_loss: 0.7720 - val_accuracy: 0.0695\n",
      "\n",
      "Epoch 00010: val_loss improved from 0.79534 to 0.77196, saving model to ~/aiffel/Untitled Folder/best_model_chatbot.keras\n",
      "Epoch 11/30\n",
      "148/148 [==============================] - 9s 62ms/step - loss: 0.5643 - accuracy: 0.0872 - val_loss: 0.7510 - val_accuracy: 0.0728\n",
      "\n",
      "Epoch 00011: val_loss improved from 0.77196 to 0.75095, saving model to ~/aiffel/Untitled Folder/best_model_chatbot.keras\n",
      "Epoch 12/30\n",
      "148/148 [==============================] - 9s 61ms/step - loss: 0.4944 - accuracy: 0.0956 - val_loss: 0.7346 - val_accuracy: 0.0751\n",
      "\n",
      "Epoch 00012: val_loss improved from 0.75095 to 0.73456, saving model to ~/aiffel/Untitled Folder/best_model_chatbot.keras\n",
      "Epoch 13/30\n",
      "148/148 [==============================] - 9s 61ms/step - loss: 0.4240 - accuracy: 0.1043 - val_loss: 0.7206 - val_accuracy: 0.0779\n",
      "\n",
      "Epoch 00013: val_loss improved from 0.73456 to 0.72058, saving model to ~/aiffel/Untitled Folder/best_model_chatbot.keras\n",
      "Epoch 14/30\n",
      "148/148 [==============================] - 9s 61ms/step - loss: 0.3553 - accuracy: 0.1137 - val_loss: 0.7109 - val_accuracy: 0.0805\n",
      "\n",
      "Epoch 00014: val_loss improved from 0.72058 to 0.71090, saving model to ~/aiffel/Untitled Folder/best_model_chatbot.keras\n",
      "Epoch 15/30\n",
      "148/148 [==============================] - 9s 61ms/step - loss: 0.2897 - accuracy: 0.1236 - val_loss: 0.7063 - val_accuracy: 0.0839\n",
      "\n",
      "Epoch 00015: val_loss improved from 0.71090 to 0.70629, saving model to ~/aiffel/Untitled Folder/best_model_chatbot.keras\n",
      "Epoch 16/30\n",
      "148/148 [==============================] - 9s 61ms/step - loss: 0.2293 - accuracy: 0.1333 - val_loss: 0.7132 - val_accuracy: 0.0866\n",
      "\n",
      "Epoch 00016: val_loss did not improve from 0.70629\n",
      "Epoch 17/30\n",
      "148/148 [==============================] - 9s 62ms/step - loss: 0.1764 - accuracy: 0.1425 - val_loss: 0.7183 - val_accuracy: 0.0881\n",
      "\n",
      "Epoch 00017: val_loss did not improve from 0.70629\n",
      "Epoch 18/30\n",
      "148/148 [==============================] - 9s 61ms/step - loss: 0.1337 - accuracy: 0.1504 - val_loss: 0.7277 - val_accuracy: 0.0915\n",
      "\n",
      "Epoch 00018: val_loss did not improve from 0.70629\n",
      "Epoch 19/30\n",
      "148/148 [==============================] - 9s 62ms/step - loss: 0.0972 - accuracy: 0.1570 - val_loss: 0.7470 - val_accuracy: 0.0915\n",
      "\n",
      "Epoch 00019: val_loss did not improve from 0.70629\n",
      "Epoch 20/30\n",
      "148/148 [==============================] - 9s 61ms/step - loss: 0.0708 - accuracy: 0.1617 - val_loss: 0.7670 - val_accuracy: 0.0927\n",
      "\n",
      "Epoch 00020: val_loss did not improve from 0.70629\n",
      "Epoch 21/30\n",
      "148/148 [==============================] - 9s 61ms/step - loss: 0.0534 - accuracy: 0.1644 - val_loss: 0.7952 - val_accuracy: 0.0939\n",
      "\n",
      "Epoch 00021: val_loss did not improve from 0.70629\n",
      "Epoch 22/30\n",
      "148/148 [==============================] - 9s 61ms/step - loss: 0.0428 - accuracy: 0.1662 - val_loss: 0.8189 - val_accuracy: 0.0936\n",
      "\n",
      "Epoch 00022: val_loss did not improve from 0.70629\n",
      "Epoch 23/30\n",
      "148/148 [==============================] - 9s 62ms/step - loss: 0.0380 - accuracy: 0.1667 - val_loss: 0.8333 - val_accuracy: 0.0941\n",
      "\n",
      "Epoch 00023: val_loss did not improve from 0.70629\n",
      "Epoch 24/30\n",
      "148/148 [==============================] - 9s 62ms/step - loss: 0.0343 - accuracy: 0.1672 - val_loss: 0.8589 - val_accuracy: 0.0943\n",
      "\n",
      "Epoch 00024: val_loss did not improve from 0.70629\n",
      "Epoch 25/30\n",
      "148/148 [==============================] - 9s 62ms/step - loss: 0.0313 - accuracy: 0.1677 - val_loss: 0.8734 - val_accuracy: 0.0950\n",
      "\n",
      "Epoch 00025: val_loss did not improve from 0.70629\n",
      "Epoch 26/30\n",
      "148/148 [==============================] - 9s 61ms/step - loss: 0.0290 - accuracy: 0.1680 - val_loss: 0.8953 - val_accuracy: 0.0939\n",
      "\n",
      "Epoch 00026: val_loss did not improve from 0.70629\n",
      "Epoch 27/30\n",
      "148/148 [==============================] - 9s 61ms/step - loss: 0.0286 - accuracy: 0.1679 - val_loss: 0.9029 - val_accuracy: 0.0950\n",
      "\n",
      "Epoch 00027: val_loss did not improve from 0.70629\n",
      "Epoch 28/30\n",
      "148/148 [==============================] - 9s 61ms/step - loss: 0.0275 - accuracy: 0.1683 - val_loss: 0.9218 - val_accuracy: 0.0955\n",
      "\n",
      "Epoch 00028: val_loss did not improve from 0.70629\n",
      "Epoch 29/30\n",
      "148/148 [==============================] - 9s 61ms/step - loss: 0.0244 - accuracy: 0.1690 - val_loss: 0.9356 - val_accuracy: 0.0955\n",
      "\n",
      "Epoch 00029: val_loss did not improve from 0.70629\n",
      "Epoch 30/30\n",
      "148/148 [==============================] - 9s 61ms/step - loss: 0.0223 - accuracy: 0.1694 - val_loss: 0.9414 - val_accuracy: 0.0947\n",
      "\n",
      "Epoch 00030: val_loss did not improve from 0.70629\n",
      "모델이 성공적으로 로드되었습니다!\n"
     ]
    }
   ],
   "source": [
    "# def accuracy(y_true, y_pred):\n",
    "#   y_true = tf.reshape(y_true, shape=(-1, MAX_LENGTH - 1))\n",
    "#   return tf.keras.metrics.sparse_categorical_accuracy(y_true, y_pred)\n",
    "\n",
    "\n",
    "# 최적의 성능을 저장할 파일 경로\n",
    "checkpoint_filepath = '~/aiffel/Untitled Folder/best_model_chatbot.keras'\n",
    "\n",
    "# 콜백 정의\n",
    "model_checkpoint = ModelCheckpoint(filepath=checkpoint_filepath,  # 모델 저장 경로\n",
    "                                    monitor='val_loss',          # 검증 손실 기준으로 저장\n",
    "                                    save_best_only=True,         # 최상의 모델만 저장\n",
    "                                    verbose=1)\n",
    "\n",
    "\n",
    "model.compile(\n",
    "    optimizer=optimizer,\n",
    "    loss=loss_function,  # 수정된 손실 함수\n",
    "    metrics=[accuracy]   # 수정된 정확도 함수\n",
    ")\n",
    "\n",
    "history = model.fit(\n",
    "    train_dataset,\n",
    "    validation_data=val_dataset,\n",
    "    epochs=30,\n",
    "    callbacks=[model_checkpoint],\n",
    "    verbose=1\n",
    ")\n",
    "\n",
    "from tensorflow.keras.models import load_model\n",
    "\n",
    "# 사용자 정의 객체 추가\n",
    "custom_objects = {\n",
    "    'PositionalEncoding': PositionalEncoding,\n",
    "    'MultiHeadAttention': MultiHeadAttention,\n",
    "    'CustomSchedule': CustomSchedule,\n",
    "    'loss_function': loss_function  # 사용자 정의 손실 함수 추가\n",
    "}\n",
    "\n",
    "# 저장된 모델 경로\n",
    "checkpoint_filepath = '~/aiffel/Untitled Folder/best_model_chatbot.keras'\n",
    "\n",
    "# 모델 로드\n",
    "best_model1 = load_model(checkpoint_filepath, custom_objects=custom_objects)\n",
    "\n",
    "print(\"모델이 성공적으로 로드되었습니다!\")"
   ]
  },
  {
   "cell_type": "markdown",
   "metadata": {},
   "source": [
    "- 훈련 2차 시도 및 시각화\n",
    "- 모델 체크포인트 디버깅 완료"
   ]
  },
  {
   "cell_type": "code",
   "execution_count": 86,
   "metadata": {
    "id": "eVEfYgksZAYO",
    "scrolled": true
   },
   "outputs": [
    {
     "data": {
      "image/png": "[encoded data removed]",
      "text/plain": [
       "<Figure size 432x288 with 1 Axes>"
      ]
     },
     "metadata": {
      "needs_background": "light"
     },
     "output_type": "display_data"
    },
    {
     "data": {
      "image/png": "[encoded data removed]",
      "text/plain": [
       "<Figure size 432x288 with 1 Axes>"
      ]
     },
     "metadata": {
      "needs_background": "light"
     },
     "output_type": "display_data"
    }
   ],
   "source": [
    "# 시각화 1차 (모델 체크포인트 디버깅을 못했을 때) - 최적의 모델 저장 못함\n",
    "import matplotlib.pyplot as plt\n",
    "\n",
    "# 손실 시각화\n",
    "plt.plot(history.history['loss'], label='Training Loss')\n",
    "plt.plot(history.history['val_loss'], label='Validation Loss', linestyle='--')\n",
    "plt.xlabel('Epochs')\n",
    "plt.ylabel('Loss')\n",
    "plt.legend()\n",
    "plt.title('Training and Validation Loss')\n",
    "plt.show()\n",
    "\n",
    "# 정확도 시각화\n",
    "plt.plot(history.history['accuracy'], label='Training Accuracy')\n",
    "plt.plot(history.history['val_accuracy'], label='Validation Accuracy', linestyle='--')\n",
    "plt.xlabel('Epochs')\n",
    "plt.ylabel('Accuracy')\n",
    "plt.legend()\n",
    "plt.title('Training and Validation Accuracy')\n",
    "plt.show()"
   ]
  },
  {
   "cell_type": "markdown",
   "metadata": {},
   "source": [
    "- val loss 오퍼피팅을 확인 한 점이 위 챗봇 모델의 성능을 평가하는데 지표가 될 수 있을까?\n",
    "- 정확도가 위 챗봇을 평가하는 정확한 평가지표가 될 수 있을까? (공부)\n",
    "- 이전에 언급 된 평가지표 중 'BLEU', 'ROUGE', '정성적 평가'를 시도해 보려고 합니다."
   ]
  },
  {
   "cell_type": "code",
   "execution_count": 141,
   "metadata": {
    "scrolled": true
   },
   "outputs": [
    {
     "data": {
      "image/png": "[encoded data removed]",
      "text/plain": [
       "<Figure size 432x288 with 1 Axes>"
      ]
     },
     "metadata": {
      "needs_background": "light"
     },
     "output_type": "display_data"
    },
    {
     "data": {
      "image/png": "[encoded data removed]",
      "text/plain": [
       "<Figure size 432x288 with 1 Axes>"
      ]
     },
     "metadata": {
      "needs_background": "light"
     },
     "output_type": "display_data"
    }
   ],
   "source": [
    "# 추가시도 콜백 지정 / 모델 체크포인트는 에러가 해결되지 않아 위 방법 시도\n",
    "# 시각화 2차\n",
    "import matplotlib.pyplot as plt\n",
    "\n",
    "# 손실 시각화\n",
    "plt.plot(history.history['loss'], label='Training Loss')\n",
    "plt.plot(history.history['val_loss'], label='Validation Loss', linestyle='--')\n",
    "plt.xlabel('Epochs')\n",
    "plt.ylabel('Loss')\n",
    "plt.legend()\n",
    "plt.title('Training and Validation Loss')\n",
    "plt.show()\n",
    "\n",
    "# 정확도 시각화\n",
    "plt.plot(history.history['accuracy'], label='Training Accuracy')\n",
    "plt.plot(history.history['val_accuracy'], label='Validation Accuracy', linestyle='--')\n",
    "plt.xlabel('Epochs')\n",
    "plt.ylabel('Accuracy')\n",
    "plt.legend()\n",
    "plt.title('Training and Validation Accuracy')\n",
    "plt.show()"
   ]
  },
  {
   "cell_type": "markdown",
   "metadata": {
    "id": "z99iPe2xcuOc"
   },
   "source": [
    "### Step 5. 모델 평가하기\n",
    "Step 1에서 선택한 전처리 방법을 고려하여 입력된 문장에 대해서 대답을 얻는 예측 함수 만들기"
   ]
  },
  {
   "cell_type": "markdown",
   "metadata": {},
   "source": [
    "학습된 트랜스포머를 사용하여 테스트를 진행합니다.\n",
    "예측(inference) 단계는 기본적으로 다음과 같은 과정을 거칩니다.\n",
    "\n",
    "1. 새로운 입력 문장에 대해서는 훈련 때와 동일한 전처리를 거친다.\n",
    "2. 입력 문장을 토크나이징하고, START_TOKEN과 END_TOKEN을 추가한다.\n",
    "3. 패딩 마스킹과 룩 어헤드 마스킹을 계산한다.\n",
    "4. 디코더는 입력 시퀀스로부터 다음 단어를 예측한다.\n",
    "5. 디코더는 예측된 다음 단어를 기존의 입력 시퀀스에 추가하여 새로운 입력으로 사용한다.\n",
    "6. END_TOKEN이 예측되거나 문장의 최대 길이에 도달하면 디코더는 동작을 멈춘다.  \n",
    "\n",
    "\n",
    "위의 과정을 모두 담은 decoder_inference() 함수를 만듭니다."
   ]
  },
  {
   "cell_type": "code",
   "execution_count": 142,
   "metadata": {
    "id": "YbWsiPzPcuWW"
   },
   "outputs": [],
   "source": [
    "def decoder_inference(sentence): # *디코더(Decoder)**를 사용해 문장을 입력받고, 해당 문장을 기반으로 모델이 예측한 결과를 출력하는 추론(Inference) 함수\n",
    "  sentence = preprocess_sentence(sentence) # 입력 문장을 전처리하여 모델이 이해할 수 있는 형태로 변환. 소문자로 변환, 공백 정리, 불필요한 문자 제거 등.\n",
    "\n",
    "  # 입력된 문장을 정수 인코딩 후, 시작 토큰과 종료 토큰을 앞뒤로 추가.\n",
    "  # ex) Where have you been? → [[8331   86   30    5 1059    7 8332]] 8331,8332 시작 및 종료 토큰\n",
    "  sentence = tf.expand_dims(\n",
    "      START_TOKEN + tokenizer.encode(sentence) + END_TOKEN, axis=0) # 문장을 토크나이저(tokenizer)를 사용해 정수 시퀀스로 변환.\n",
    "\n",
    "  # 디코더의 현재까지의 예측한 출력 시퀀스가 지속적으로 저장되는 변수.\n",
    "  # 처음에는 예측한 내용이 없음으로 시작 토큰만 별도 저장. ex) 8331\n",
    "  output_sequence = tf.expand_dims(START_TOKEN, 0) # 모델 입력은 2D 텐서(배치 크기 포함)여야 하므로 차원을 확장. 결과 shape: (1, sequence_length).\n",
    "\n",
    "\n",
    "  # 디코더의 인퍼런스 단계\n",
    "  for i in range(MAX_LENGTH):\n",
    "    # 디코더는 최대 MAX_LENGTH의 길이만큼 다음 단어 예측을 반복합니다.\n",
    "    predictions = best_model1(inputs=[sentence, output_sequence], training=False)\n",
    "    predictions = predictions[:, -1:, :]\n",
    "\n",
    "    # 현재 예측한 단어의 정수\n",
    "    predicted_id = tf.cast(tf.argmax(predictions, axis=-1), tf.int32)\n",
    "\n",
    "    # 만약 현재 예측한 단어가 종료 토큰이라면 for문을 종료\n",
    "    if tf.equal(predicted_id, END_TOKEN[0]):\n",
    "      break\n",
    "\n",
    "\n",
    "    # 예측한 단어들은 지속적으로 output_sequence에 추가됩니다.\n",
    "    # 이 output_sequence는 다시 디코더의 입력이 됩니다.\n",
    "    output_sequence = tf.concat([output_sequence, predicted_id], axis=-1)\n",
    "\n",
    "  return tf.squeeze(output_sequence, axis=0)"
   ]
  },
  {
   "cell_type": "markdown",
   "metadata": {},
   "source": [
    "임의의 입력 문장에 대해서 decoder_inference() 함수를 호출하여 챗봇의 대답을 얻는 sentence_generation() 함수를 만듭니다."
   ]
  },
  {
   "cell_type": "code",
   "execution_count": 143,
   "metadata": {
    "scrolled": true
   },
   "outputs": [
    {
     "name": "stdout",
     "output_type": "stream",
     "text": [
      "슝=3\n"
     ]
    }
   ],
   "source": [
    "def sentence_generation(sentence): # 이 함수는 decoder_inference를 호출해 디코더 추론을 수행하고, 모델이 예측한 정수 시퀀스를 텍스트 형태로 변환하여 출력합니다.\n",
    "  # 입력 문장에 대해서 디코더를 동작 시켜 예측된 정수 시퀀스를 리턴받습니다.\n",
    "  prediction = decoder_inference(sentence) # sentence: 사용자가 입력한 텍스트 문장.\n",
    " # 예상 반환값 정수 시퀀스: [8331, 86, 30, 5, 1059, 7, 8332] (예: 시작 토큰부터 종료 토큰까지의 단어 ID).\n",
    "\n",
    "  # 정수 시퀀스를 다시 텍스트 시퀀스로 변환합니다.\n",
    "  predicted_sentence = tokenizer.decode(\n",
    "      [i for i in prediction if i < tokenizer.vocab_size])\n",
    "\n",
    "  print('입력 : {}'.format(sentence))\n",
    "  print('출력 : {}'.format(predicted_sentence))\n",
    "\n",
    "  return predicted_sentence\n",
    "print(\"슝=3\")"
   ]
  },
  {
   "cell_type": "markdown",
   "metadata": {},
   "source": [
    "### -1. 정성적 평가"
   ]
  },
  {
   "cell_type": "code",
   "execution_count": 162,
   "metadata": {
    "scrolled": false
   },
   "outputs": [
    {
     "name": "stdout",
     "output_type": "stream",
     "text": [
      "입력 : 12시 땡 !\n",
      "출력 : 포맷해보세요 .\n",
      "입력 : 1지망 학교 떨어졌어\n",
      "출력 : 미리 충전해주세요 .\n",
      "입력 : 3박4일 놀러가고 싶다\n",
      "출력 : 그런 날이 있더라고요 .\n",
      "입력 : 3박4일 정도 놀러가고 싶다\n",
      "출력 : 그런 날이 있더라고요 .\n",
      "입력 : PPL 심하네\n",
      "출력 : 그분 생각을 많이 했나 봐요 . 곧 좋은 소식이 들리려고 하는 것 아닐까요 ?\n",
      "입력 : SD카드 망가졌어\n",
      "출력 : 다시 새로 사는 게 마음 편해요 .\n",
      "입력 : SD카드 안돼\n",
      "출력 : 다시 새로 사는 게 마음 편해요 .\n",
      "입력 : SNS 맞팔 왜 안하지\n",
      "출력 : SNS 흔적이 되지 않겠지만 힘내세요 .\n",
      "입력 : SNS 시간낭비인 거 아는데 매일 하는 중\n",
      "출력 : 시간을 좀 쉬었다고 가세요 .\n",
      "입력 : SNS 시간낭비인데 자꾸 보게됨\n",
      "출력 : 시간을 정해보세요 .\n",
      "입력 : SNS보면 나만 빼고 다 행복해보여\n",
      "출력 : 그래도 후회는 후회를 낳을뿐이에요 . 그래도 후회는 없을 거예요 .\n",
      "입력 : 가끔 궁금해\n",
      "출력 : 그럴 수 있어요 .\n",
      "입력 : 가끔 뭐하는지 궁금해\n",
      "출력 : 그럴 거예요 .\n",
      "입력 : 가끔은 혼자인게 좋다\n",
      "출력 : 잠깐 시원한 바람좀 쐬고 오세요 .\n",
      "입력 : 가난한 자의 설움\n",
      "출력 : 마음이 복잡하겠어요 .\n",
      "입력 : 가만 있어도 땀난다\n",
      "출력 : 미리 충전해주세요 .\n",
      "입력 : 가상화폐 쫄딱 망함\n",
      "출력 : 어서 잊고 새출발 하세요 .\n",
      "입력 : 가스불 켜고 나갔어\n",
      "출력 : 조심하세요 .\n",
      "입력 : 가스불 켜놓고 나온거 같아\n",
      "출력 : 조심하세요 .\n",
      "입력 : 가스비 너무 많이 나왔다 .\n",
      "출력 : 다음 학기를 노려보세요 .\n",
      "입력 : 가스비 비싼데 감기 걸리겠어\n",
      "출력 : 따뜻하게 사세요 .\n",
      "입력 : 가스비 장난 아님\n",
      "출력 : 다음 학기를 노려보세요 .\n",
      "입력 : 가장 확실한 건 뭘까 ?\n",
      "출력 : 가장 중요한 목표네요 .\n",
      "입력 : 가족 여행 가기로 했어\n",
      "출력 : 온 가족이 모두 마음에 드는 곳으로 가보세요 .\n",
      "입력 : 가족 여행 고고\n",
      "출력 : 온 가족이 모두 마음에 드는 곳으로 가보세요 .\n",
      "입력 : 가족 여행 어디로 가지 ?\n",
      "출력 : 온 가족이 모두 마음에 드는 곳으로 가보세요 .\n",
      "입력 : 가족 있어 ?\n",
      "출력 : 네 말씀해주세요 .\n",
      "입력 : 가족관계 알려 줘\n",
      "출력 : 네 말씀해주세요 .\n",
      "입력 : 가족끼리 여행간다 .\n",
      "출력 : 걷다보면 조금 정리가 될 거예요 .\n",
      "입력 : 가족들 보고 싶어\n",
      "출력 :  .\n"
     ]
    },
    {
     "data": {
      "text/html": [
       "<div>\n",
       "<style scoped>\n",
       "    .dataframe tbody tr th:only-of-type {\n",
       "        vertical-align: middle;\n",
       "    }\n",
       "\n",
       "    .dataframe tbody tr th {\n",
       "        vertical-align: top;\n",
       "    }\n",
       "\n",
       "    .dataframe thead th {\n",
       "        text-align: right;\n",
       "    }\n",
       "</style>\n",
       "<table border=\"1\" class=\"dataframe\">\n",
       "  <thead>\n",
       "    <tr style=\"text-align: right;\">\n",
       "      <th></th>\n",
       "      <th>Questions (원문 질문)</th>\n",
       "      <th>Answers (원문 답변)</th>\n",
       "      <th>Generated Sentence (생성된 문장)</th>\n",
       "    </tr>\n",
       "  </thead>\n",
       "  <tbody>\n",
       "    <tr>\n",
       "      <th>1</th>\n",
       "      <td>12시 땡 !</td>\n",
       "      <td>하루가 또 가네요 .</td>\n",
       "      <td>포맷해보세요 .</td>\n",
       "    </tr>\n",
       "    <tr>\n",
       "      <th>2</th>\n",
       "      <td>1지망 학교 떨어졌어</td>\n",
       "      <td>위로해 드립니다 .</td>\n",
       "      <td>미리 충전해주세요 .</td>\n",
       "    </tr>\n",
       "    <tr>\n",
       "      <th>3</th>\n",
       "      <td>3박4일 놀러가고 싶다</td>\n",
       "      <td>여행은 언제나 좋죠 .</td>\n",
       "      <td>그런 날이 있더라고요 .</td>\n",
       "    </tr>\n",
       "    <tr>\n",
       "      <th>4</th>\n",
       "      <td>3박4일 정도 놀러가고 싶다</td>\n",
       "      <td>여행은 언제나 좋죠 .</td>\n",
       "      <td>그런 날이 있더라고요 .</td>\n",
       "    </tr>\n",
       "    <tr>\n",
       "      <th>5</th>\n",
       "      <td>PPL 심하네</td>\n",
       "      <td>눈살이 찌푸려지죠 .</td>\n",
       "      <td>그분 생각을 많이 했나 봐요 . 곧 좋은 소식이 들리려고 하는 것 아닐까요 ?</td>\n",
       "    </tr>\n",
       "    <tr>\n",
       "      <th>6</th>\n",
       "      <td>SD카드 망가졌어</td>\n",
       "      <td>다시 새로 사는 게 마음 편해요 .</td>\n",
       "      <td>다시 새로 사는 게 마음 편해요 .</td>\n",
       "    </tr>\n",
       "    <tr>\n",
       "      <th>7</th>\n",
       "      <td>SD카드 안돼</td>\n",
       "      <td>다시 새로 사는 게 마음 편해요 .</td>\n",
       "      <td>다시 새로 사는 게 마음 편해요 .</td>\n",
       "    </tr>\n",
       "    <tr>\n",
       "      <th>8</th>\n",
       "      <td>SNS 맞팔 왜 안하지</td>\n",
       "      <td>잘 모르고 있을 수도 있어요 .</td>\n",
       "      <td>SNS 흔적이 되지 않겠지만 힘내세요 .</td>\n",
       "    </tr>\n",
       "    <tr>\n",
       "      <th>9</th>\n",
       "      <td>SNS 시간낭비인 거 아는데 매일 하는 중</td>\n",
       "      <td>시간을 정하고 해보세요 .</td>\n",
       "      <td>시간을 좀 쉬었다고 가세요 .</td>\n",
       "    </tr>\n",
       "    <tr>\n",
       "      <th>10</th>\n",
       "      <td>SNS 시간낭비인데 자꾸 보게됨</td>\n",
       "      <td>시간을 정하고 해보세요 .</td>\n",
       "      <td>시간을 정해보세요 .</td>\n",
       "    </tr>\n",
       "    <tr>\n",
       "      <th>11</th>\n",
       "      <td>SNS보면 나만 빼고 다 행복해보여</td>\n",
       "      <td>자랑하는 자리니까요 .</td>\n",
       "      <td>그래도 후회는 후회를 낳을뿐이에요 . 그래도 후회는 없을 거예요 .</td>\n",
       "    </tr>\n",
       "    <tr>\n",
       "      <th>12</th>\n",
       "      <td>가끔 궁금해</td>\n",
       "      <td>그 사람도 그럴 거예요 .</td>\n",
       "      <td>그럴 수 있어요 .</td>\n",
       "    </tr>\n",
       "    <tr>\n",
       "      <th>13</th>\n",
       "      <td>가끔 뭐하는지 궁금해</td>\n",
       "      <td>그 사람도 그럴 거예요 .</td>\n",
       "      <td>그럴 거예요 .</td>\n",
       "    </tr>\n",
       "    <tr>\n",
       "      <th>14</th>\n",
       "      <td>가끔은 혼자인게 좋다</td>\n",
       "      <td>혼자를 즐기세요 .</td>\n",
       "      <td>잠깐 시원한 바람좀 쐬고 오세요 .</td>\n",
       "    </tr>\n",
       "    <tr>\n",
       "      <th>15</th>\n",
       "      <td>가난한 자의 설움</td>\n",
       "      <td>돈은 다시 들어올 거예요 .</td>\n",
       "      <td>마음이 복잡하겠어요 .</td>\n",
       "    </tr>\n",
       "    <tr>\n",
       "      <th>16</th>\n",
       "      <td>가만 있어도 땀난다</td>\n",
       "      <td>땀을 식혀주세요 .</td>\n",
       "      <td>미리 충전해주세요 .</td>\n",
       "    </tr>\n",
       "    <tr>\n",
       "      <th>17</th>\n",
       "      <td>가상화폐 쫄딱 망함</td>\n",
       "      <td>어서 잊고 새출발 하세요 .</td>\n",
       "      <td>어서 잊고 새출발 하세요 .</td>\n",
       "    </tr>\n",
       "    <tr>\n",
       "      <th>18</th>\n",
       "      <td>가스불 켜고 나갔어</td>\n",
       "      <td>빨리 집에 돌아가서 끄고 나오세요 .</td>\n",
       "      <td>조심하세요 .</td>\n",
       "    </tr>\n",
       "    <tr>\n",
       "      <th>19</th>\n",
       "      <td>가스불 켜놓고 나온거 같아</td>\n",
       "      <td>빨리 집에 돌아가서 끄고 나오세요 .</td>\n",
       "      <td>조심하세요 .</td>\n",
       "    </tr>\n",
       "    <tr>\n",
       "      <th>20</th>\n",
       "      <td>가스비 너무 많이 나왔다 .</td>\n",
       "      <td>다음 달에는 더 절약해봐요 .</td>\n",
       "      <td>다음 학기를 노려보세요 .</td>\n",
       "    </tr>\n",
       "    <tr>\n",
       "      <th>21</th>\n",
       "      <td>가스비 비싼데 감기 걸리겠어</td>\n",
       "      <td>따뜻하게 사세요 !</td>\n",
       "      <td>따뜻하게 사세요 .</td>\n",
       "    </tr>\n",
       "    <tr>\n",
       "      <th>22</th>\n",
       "      <td>가스비 장난 아님</td>\n",
       "      <td>다음 달에는 더 절약해봐요 .</td>\n",
       "      <td>다음 학기를 노려보세요 .</td>\n",
       "    </tr>\n",
       "    <tr>\n",
       "      <th>23</th>\n",
       "      <td>가장 확실한 건 뭘까 ?</td>\n",
       "      <td>가장 확실한 시간은 오늘이에요 . 어제와 내일을 놓고 고민하느라 시간을 낭비하지 마...</td>\n",
       "      <td>가장 중요한 목표네요 .</td>\n",
       "    </tr>\n",
       "    <tr>\n",
       "      <th>24</th>\n",
       "      <td>가족 여행 가기로 했어</td>\n",
       "      <td>온 가족이 모두 마음에 드는 곳으로 가보세요 .</td>\n",
       "      <td>온 가족이 모두 마음에 드는 곳으로 가보세요 .</td>\n",
       "    </tr>\n",
       "    <tr>\n",
       "      <th>25</th>\n",
       "      <td>가족 여행 고고</td>\n",
       "      <td>온 가족이 모두 마음에 드는 곳으로 가보세요 .</td>\n",
       "      <td>온 가족이 모두 마음에 드는 곳으로 가보세요 .</td>\n",
       "    </tr>\n",
       "    <tr>\n",
       "      <th>26</th>\n",
       "      <td>가족 여행 어디로 가지 ?</td>\n",
       "      <td>온 가족이 모두 마음에 드는 곳으로 가보세요 .</td>\n",
       "      <td>온 가족이 모두 마음에 드는 곳으로 가보세요 .</td>\n",
       "    </tr>\n",
       "    <tr>\n",
       "      <th>27</th>\n",
       "      <td>가족 있어 ?</td>\n",
       "      <td>저를 만들어 준 사람을 부모님 , 저랑 이야기해 주는 사람을 친구로 생각하고 있어요</td>\n",
       "      <td>네 말씀해주세요 .</td>\n",
       "    </tr>\n",
       "    <tr>\n",
       "      <th>28</th>\n",
       "      <td>가족관계 알려 줘</td>\n",
       "      <td>저를 만들어 준 사람을 부모님 , 저랑 이야기해 주는 사람을 친구로 생각하고 있어요</td>\n",
       "      <td>네 말씀해주세요 .</td>\n",
       "    </tr>\n",
       "    <tr>\n",
       "      <th>29</th>\n",
       "      <td>가족끼리 여행간다 .</td>\n",
       "      <td>더 가까워질 기회가 되겠네요 .</td>\n",
       "      <td>걷다보면 조금 정리가 될 거예요 .</td>\n",
       "    </tr>\n",
       "    <tr>\n",
       "      <th>30</th>\n",
       "      <td>가족들 보고 싶어</td>\n",
       "      <td>저도요 .</td>\n",
       "      <td>.</td>\n",
       "    </tr>\n",
       "  </tbody>\n",
       "</table>\n",
       "</div>"
      ],
      "text/plain": [
       "          Questions (원문 질문)  \\\n",
       "1                   12시 땡 !   \n",
       "2               1지망 학교 떨어졌어   \n",
       "3              3박4일 놀러가고 싶다   \n",
       "4           3박4일 정도 놀러가고 싶다   \n",
       "5                   PPL 심하네   \n",
       "6                 SD카드 망가졌어   \n",
       "7                   SD카드 안돼   \n",
       "8              SNS 맞팔 왜 안하지   \n",
       "9   SNS 시간낭비인 거 아는데 매일 하는 중   \n",
       "10        SNS 시간낭비인데 자꾸 보게됨   \n",
       "11      SNS보면 나만 빼고 다 행복해보여   \n",
       "12                   가끔 궁금해   \n",
       "13              가끔 뭐하는지 궁금해   \n",
       "14              가끔은 혼자인게 좋다   \n",
       "15                가난한 자의 설움   \n",
       "16               가만 있어도 땀난다   \n",
       "17               가상화폐 쫄딱 망함   \n",
       "18               가스불 켜고 나갔어   \n",
       "19           가스불 켜놓고 나온거 같아   \n",
       "20          가스비 너무 많이 나왔다 .   \n",
       "21          가스비 비싼데 감기 걸리겠어   \n",
       "22                가스비 장난 아님   \n",
       "23            가장 확실한 건 뭘까 ?   \n",
       "24             가족 여행 가기로 했어   \n",
       "25                 가족 여행 고고   \n",
       "26           가족 여행 어디로 가지 ?   \n",
       "27                  가족 있어 ?   \n",
       "28                가족관계 알려 줘   \n",
       "29              가족끼리 여행간다 .   \n",
       "30                가족들 보고 싶어   \n",
       "\n",
       "                                      Answers (원문 답변)  \\\n",
       "1                                         하루가 또 가네요 .   \n",
       "2                                          위로해 드립니다 .   \n",
       "3                                        여행은 언제나 좋죠 .   \n",
       "4                                        여행은 언제나 좋죠 .   \n",
       "5                                         눈살이 찌푸려지죠 .   \n",
       "6                                 다시 새로 사는 게 마음 편해요 .   \n",
       "7                                 다시 새로 사는 게 마음 편해요 .   \n",
       "8                                   잘 모르고 있을 수도 있어요 .   \n",
       "9                                      시간을 정하고 해보세요 .   \n",
       "10                                     시간을 정하고 해보세요 .   \n",
       "11                                       자랑하는 자리니까요 .   \n",
       "12                                     그 사람도 그럴 거예요 .   \n",
       "13                                     그 사람도 그럴 거예요 .   \n",
       "14                                         혼자를 즐기세요 .   \n",
       "15                                    돈은 다시 들어올 거예요 .   \n",
       "16                                         땀을 식혀주세요 .   \n",
       "17                                    어서 잊고 새출발 하세요 .   \n",
       "18                               빨리 집에 돌아가서 끄고 나오세요 .   \n",
       "19                               빨리 집에 돌아가서 끄고 나오세요 .   \n",
       "20                                   다음 달에는 더 절약해봐요 .   \n",
       "21                                         따뜻하게 사세요 !   \n",
       "22                                   다음 달에는 더 절약해봐요 .   \n",
       "23  가장 확실한 시간은 오늘이에요 . 어제와 내일을 놓고 고민하느라 시간을 낭비하지 마...   \n",
       "24                         온 가족이 모두 마음에 드는 곳으로 가보세요 .   \n",
       "25                         온 가족이 모두 마음에 드는 곳으로 가보세요 .   \n",
       "26                         온 가족이 모두 마음에 드는 곳으로 가보세요 .   \n",
       "27     저를 만들어 준 사람을 부모님 , 저랑 이야기해 주는 사람을 친구로 생각하고 있어요   \n",
       "28     저를 만들어 준 사람을 부모님 , 저랑 이야기해 주는 사람을 친구로 생각하고 있어요   \n",
       "29                                  더 가까워질 기회가 되겠네요 .   \n",
       "30                                              저도요 .   \n",
       "\n",
       "                    Generated Sentence (생성된 문장)  \n",
       "1                                      포맷해보세요 .  \n",
       "2                                   미리 충전해주세요 .  \n",
       "3                                 그런 날이 있더라고요 .  \n",
       "4                                 그런 날이 있더라고요 .  \n",
       "5   그분 생각을 많이 했나 봐요 . 곧 좋은 소식이 들리려고 하는 것 아닐까요 ?  \n",
       "6                           다시 새로 사는 게 마음 편해요 .  \n",
       "7                           다시 새로 사는 게 마음 편해요 .  \n",
       "8                        SNS 흔적이 되지 않겠지만 힘내세요 .  \n",
       "9                              시간을 좀 쉬었다고 가세요 .  \n",
       "10                                  시간을 정해보세요 .  \n",
       "11        그래도 후회는 후회를 낳을뿐이에요 . 그래도 후회는 없을 거예요 .  \n",
       "12                                   그럴 수 있어요 .  \n",
       "13                                     그럴 거예요 .  \n",
       "14                          잠깐 시원한 바람좀 쐬고 오세요 .  \n",
       "15                                 마음이 복잡하겠어요 .  \n",
       "16                                  미리 충전해주세요 .  \n",
       "17                              어서 잊고 새출발 하세요 .  \n",
       "18                                      조심하세요 .  \n",
       "19                                      조심하세요 .  \n",
       "20                               다음 학기를 노려보세요 .  \n",
       "21                                   따뜻하게 사세요 .  \n",
       "22                               다음 학기를 노려보세요 .  \n",
       "23                                가장 중요한 목표네요 .  \n",
       "24                   온 가족이 모두 마음에 드는 곳으로 가보세요 .  \n",
       "25                   온 가족이 모두 마음에 드는 곳으로 가보세요 .  \n",
       "26                   온 가족이 모두 마음에 드는 곳으로 가보세요 .  \n",
       "27                                   네 말씀해주세요 .  \n",
       "28                                   네 말씀해주세요 .  \n",
       "29                          걷다보면 조금 정리가 될 거예요 .  \n",
       "30                                            .  "
      ]
     },
     "execution_count": 162,
     "metadata": {},
     "output_type": "execute_result"
    }
   ],
   "source": [
    "questions_test, answers_test = load_conversations_from_csv(data_path)\n",
    "# 원질문, 원답변 30개\n",
    "questions_sample = questions_test[1:31]\n",
    "answers_sample = answers_test[1:31]\n",
    "\n",
    "# sentence_generation 함수 결과 생성\n",
    "generated_sentences = [sentence_generation(q) for q in questions_sample[0:30]]\n",
    "\n",
    "# 데이터프레임 생성\n",
    "df_test_results = pd.DataFrame({\n",
    "    'Questions (원문 질문)': questions_sample[0:30],  # 1열: 원문 질문\n",
    "    'Answers (원문 답변)': answers_sample[0:30],      # 2열: 원문 답변\n",
    "    'Generated Sentence (생성된 문장)': generated_sentences  # 3열: 생성된 문장\n",
    "})\n",
    "\n",
    "df_test_results.index = range(1, len(df_test_results) + 1)\n",
    "df_test_results"
   ]
  },
  {
   "cell_type": "markdown",
   "metadata": {},
   "source": [
    "- 정성적 평가로 볼때, 30개의 문장을 기준으로 대략 50%이상의 챗봇 답변이 그럴싸하게 생성 되었음을 확인할 수 있었습니다.\n",
    "- 완벽하지 않지만, '그럴 수 있지'라고 평가 되는 답변들이 보입니다. \n",
    "- 하지만 위 챗봇을 실제 고객들에게 상용화시킬 순 없을 것이며, 이러한 점을 개선시키기 위한 노력들을 'EX07 챗봇 모델'을 구현하면서 공부할 수 있었습니다.\n",
    "- 평가지표에 대한 궁금증이 생겨 이에 대해 더 찾아보고, 기록하겠습니다."
   ]
  },
  {
   "cell_type": "markdown",
   "metadata": {},
   "source": [
    "### -2. BLEU"
   ]
  },
  {
   "cell_type": "code",
   "execution_count": null,
   "metadata": {},
   "outputs": [],
   "source": []
  },
  {
   "cell_type": "markdown",
   "metadata": {},
   "source": [
    "### -3. ROUGE"
   ]
  },
  {
   "cell_type": "code",
   "execution_count": null,
   "metadata": {},
   "outputs": [],
   "source": []
  },
  {
   "cell_type": "markdown",
   "metadata": {
    "id": "-2tUUQq6dct5"
   },
   "source": [
    "### 루브릭\n",
    "![image.png](data:image/png;base64,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)"
   ]
  },
  {
   "cell_type": "code",
   "execution_count": null,
   "metadata": {
    "id": "2z87Sox1deYO"
   },
   "outputs": [],
   "source": []
  }
 ],
 "metadata": {
  "accelerator": "GPU",
  "colab": {
   "gpuType": "T4",
   "provenance": []
  },
  "kernelspec": {
   "display_name": "Python 3 (ipykernel)",
   "language": "python",
   "name": "python3"
  },
  "language_info": {
   "codemirror_mode": {
    "name": "ipython",
    "version": 3
   },
   "file_extension": ".py",
   "mimetype": "text/x-python",
   "name": "python",
   "nbconvert_exporter": "python",
   "pygments_lexer": "ipython3",
   "version": "3.9.7"
  }
 },
 "nbformat": 4,
 "nbformat_minor": 1
}
